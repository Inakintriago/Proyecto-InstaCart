{
 "cells": [
  {
   "cell_type": "markdown",
   "id": "mhIvmmkW414q",
   "metadata": {
    "id": "mhIvmmkW414q"
   },
   "source": [
    "# Introducción\n",
    "\n",
    "Instacart es una plataforma de entregas de comestibles donde la clientela puede registrar un pedido y hacer que se lo entreguen, similar a Uber Eats y Door Dash.\n",
    "El conjunto de datos que te hemos proporcionado tiene modificaciones del original. Redujimos el tamaño del conjunto para que tus cálculos se hicieran más rápido e introdujimos valores ausentes y duplicados. Tuvimos cuidado de conservar las distribuciones de los datos originales cuando hicimos los cambios.\n",
    "\n",
    "Debes completar tres pasos. Para cada uno de ellos, escribe una breve introducción que refleje con claridad cómo pretendes resolver cada paso, y escribe párrafos explicatorios que justifiquen tus decisiones al tiempo que avanzas en tu solución.  También escribe una conclusión que resuma tus hallazgos y elecciones.\n"
   ]
  },
  {
   "cell_type": "markdown",
   "id": "3MbyzpOQZ5Or",
   "metadata": {
    "id": "3MbyzpOQZ5Or"
   },
   "source": [
    "## Diccionario de datos\n",
    "\n",
    "Hay cinco tablas en el conjunto de datos, y tendrás que usarlas todas para hacer el preprocesamiento de datos y el análisis exploratorio de datos. A continuación se muestra un diccionario de datos que enumera las columnas de cada tabla y describe los datos que contienen.\n",
    "\n",
    "- `instacart_orders.csv`: cada fila corresponde a un pedido en la aplicación Instacart.\n",
    "    - `'order_id'`: número de ID que identifica de manera única cada pedido.\n",
    "    - `'user_id'`: número de ID que identifica de manera única la cuenta de cada cliente.\n",
    "    - `'order_number'`: el número de veces que este cliente ha hecho un pedido.\n",
    "    - `'order_dow'`: día de la semana en que se hizo el pedido (0 si es domingo).\n",
    "    - `'order_hour_of_day'`: hora del día en que se hizo el pedido.\n",
    "    - `'days_since_prior_order'`: número de días transcurridos desde que este cliente hizo su pedido anterior.\n",
    "- `products.csv`: cada fila corresponde a un producto único que pueden comprar los clientes.\n",
    "    - `'product_id'`: número ID que identifica de manera única cada producto.\n",
    "    - `'product_name'`: nombre del producto.\n",
    "    - `'aisle_id'`: número ID que identifica de manera única cada categoría de pasillo de víveres.\n",
    "    - `'department_id'`: número ID que identifica de manera única cada departamento de víveres.\n",
    "- `order_products.csv`: cada fila corresponde a un artículo pedido en un pedido.\n",
    "    - `'order_id'`: número de ID que identifica de manera única cada pedido.\n",
    "    - `'product_id'`: número ID que identifica de manera única cada producto.\n",
    "    - `'add_to_cart_order'`: el orden secuencial en el que se añadió cada artículo en el carrito.\n",
    "    - `'reordered'`: 0 si el cliente nunca ha pedido este producto antes, 1 si lo ha pedido.\n",
    "- `aisles.csv`\n",
    "    - `'aisle_id'`: número ID que identifica de manera única cada categoría de pasillo de víveres.\n",
    "    - `'aisle'`: nombre del pasillo.\n",
    "- `departments.csv`\n",
    "    - `'department_id'`: número ID que identifica de manera única cada departamento de víveres.\n",
    "    - `'department'`: nombre del departamento."
   ]
  },
  {
   "cell_type": "markdown",
   "id": "n3Ha_cNSZ8lK",
   "metadata": {
    "id": "n3Ha_cNSZ8lK"
   },
   "source": [
    "# Paso 1. Descripción de los datos\n",
    "\n",
    "Lee los archivos de datos (`/datasets/instacart_orders.csv`, `/datasets/products.csv`, `/datasets/aisles.csv`, `/datasets/departments.csv` y `/datasets/order_products.csv`) con `pd.read_csv()` usando los parámetros adecuados para leer los datos correctamente. Verifica la información para cada DataFrame creado.\n"
   ]
  },
  {
   "cell_type": "markdown",
   "id": "OmlQPLlyaAfR",
   "metadata": {
    "id": "OmlQPLlyaAfR"
   },
   "source": [
    "## Plan de solución\n",
    "\n",
    "Escribe aquí tu plan de solución para el Paso 1. Descripción de los datos."
   ]
  },
  {
   "cell_type": "code",
   "execution_count": 1,
   "id": "fbf1adab",
   "metadata": {
    "id": "fbf1adab"
   },
   "outputs": [],
   "source": [
    "# importar librerías\n",
    "import pandas as pd\n",
    "import numpy as np\n",
    "import matplotlib.pyplot as plt"
   ]
  },
  {
   "cell_type": "code",
   "execution_count": 2,
   "id": "ad36396d",
   "metadata": {
    "id": "ad36396d"
   },
   "outputs": [],
   "source": [
    "# leer conjuntos de datos en los DataFrames\n",
    "orders = pd.read_csv('/datasets/instacart_orders.csv', delimiter = ';') # leemos el archivo \"instacart_orders\"\n",
    "products = pd.read_csv('/datasets/products.csv', delimiter = ';') # leemos el archivo \"products\"\n",
    "aisles = pd.read_csv('/datasets/aisles.csv', delimiter = ';') # leemos el archivo \"aisles\"\n",
    "departments = pd.read_csv('/datasets/departments.csv', delimiter = ';') # leemos el archivo \"departments\"\n",
    "order_products = pd.read_csv('/datasets/order_products.csv', delimiter = ';') # leemos el archivo \"order_products\""
   ]
  },
  {
   "cell_type": "code",
   "execution_count": 3,
   "id": "ad6a1efa",
   "metadata": {
    "id": "ad6a1efa"
   },
   "outputs": [
    {
     "name": "stdout",
     "output_type": "stream",
     "text": [
      "   order_id  user_id  order_number  order_dow  order_hour_of_day  \\\n",
      "0   1515936   183418            11          6                 13   \n",
      "1   1690866   163593             5          5                 12   \n",
      "2   1454967    39980             4          5                 19   \n",
      "3   1768857    82516            56          0                 20   \n",
      "4   3007858   196724             2          4                 12   \n",
      "\n",
      "   days_since_prior_order  \n",
      "0                    30.0  \n",
      "1                     9.0  \n",
      "2                     2.0  \n",
      "3                    10.0  \n",
      "4                    17.0  \n",
      " \n",
      "<class 'pandas.core.frame.DataFrame'>\n",
      "RangeIndex: 478967 entries, 0 to 478966\n",
      "Data columns (total 6 columns):\n",
      " #   Column                  Non-Null Count   Dtype  \n",
      "---  ------                  --------------   -----  \n",
      " 0   order_id                478967 non-null  int64  \n",
      " 1   user_id                 478967 non-null  int64  \n",
      " 2   order_number            478967 non-null  int64  \n",
      " 3   order_dow               478967 non-null  int64  \n",
      " 4   order_hour_of_day       478967 non-null  int64  \n",
      " 5   days_since_prior_order  450148 non-null  float64\n",
      "dtypes: float64(1), int64(5)\n",
      "memory usage: 21.9 MB\n",
      "None\n"
     ]
    }
   ],
   "source": [
    "# mostrar información del DataFrame \"orders\"\n",
    "print(orders.head())\n",
    "print(\" \")\n",
    "print(orders.info())"
   ]
  },
  {
   "cell_type": "code",
   "execution_count": 4,
   "id": "5130e05e",
   "metadata": {
    "id": "5130e05e"
   },
   "outputs": [
    {
     "name": "stdout",
     "output_type": "stream",
     "text": [
      "   product_id                                       product_name  aisle_id  \\\n",
      "0           1                         Chocolate Sandwich Cookies        61   \n",
      "1           2                                   All-Seasons Salt       104   \n",
      "2           3               Robust Golden Unsweetened Oolong Tea        94   \n",
      "3           4  Smart Ones Classic Favorites Mini Rigatoni Wit...        38   \n",
      "4           5                          Green Chile Anytime Sauce         5   \n",
      "\n",
      "   department_id  \n",
      "0             19  \n",
      "1             13  \n",
      "2              7  \n",
      "3              1  \n",
      "4             13  \n",
      " \n",
      "<class 'pandas.core.frame.DataFrame'>\n",
      "RangeIndex: 49694 entries, 0 to 49693\n",
      "Data columns (total 4 columns):\n",
      " #   Column         Non-Null Count  Dtype \n",
      "---  ------         --------------  ----- \n",
      " 0   product_id     49694 non-null  int64 \n",
      " 1   product_name   48436 non-null  object\n",
      " 2   aisle_id       49694 non-null  int64 \n",
      " 3   department_id  49694 non-null  int64 \n",
      "dtypes: int64(3), object(1)\n",
      "memory usage: 1.5+ MB\n",
      "None\n"
     ]
    }
   ],
   "source": [
    "# mostrar información del DataFrame \"products\"\n",
    "print(products.head())\n",
    "print(\" \")\n",
    "print(products.info())"
   ]
  },
  {
   "cell_type": "code",
   "execution_count": 5,
   "id": "d8370c05",
   "metadata": {
    "id": "d8370c05"
   },
   "outputs": [
    {
     "name": "stdout",
     "output_type": "stream",
     "text": [
      "   aisle_id                       aisle\n",
      "0         1       prepared soups salads\n",
      "1         2           specialty cheeses\n",
      "2         3         energy granola bars\n",
      "3         4               instant foods\n",
      "4         5  marinades meat preparation\n",
      " \n",
      "<class 'pandas.core.frame.DataFrame'>\n",
      "RangeIndex: 134 entries, 0 to 133\n",
      "Data columns (total 2 columns):\n",
      " #   Column    Non-Null Count  Dtype \n",
      "---  ------    --------------  ----- \n",
      " 0   aisle_id  134 non-null    int64 \n",
      " 1   aisle     134 non-null    object\n",
      "dtypes: int64(1), object(1)\n",
      "memory usage: 2.2+ KB\n",
      "None\n"
     ]
    }
   ],
   "source": [
    "# mostrar información del DataFrame \"aisles\"\n",
    "print(aisles.head())\n",
    "print(\" \")\n",
    "print(aisles.info())"
   ]
  },
  {
   "cell_type": "code",
   "execution_count": 6,
   "id": "59e2090f",
   "metadata": {
    "id": "59e2090f"
   },
   "outputs": [
    {
     "name": "stdout",
     "output_type": "stream",
     "text": [
      "   department_id department\n",
      "0              1     frozen\n",
      "1              2      other\n",
      "2              3     bakery\n",
      "3              4    produce\n",
      "4              5    alcohol\n",
      " \n",
      "<class 'pandas.core.frame.DataFrame'>\n",
      "RangeIndex: 21 entries, 0 to 20\n",
      "Data columns (total 2 columns):\n",
      " #   Column         Non-Null Count  Dtype \n",
      "---  ------         --------------  ----- \n",
      " 0   department_id  21 non-null     int64 \n",
      " 1   department     21 non-null     object\n",
      "dtypes: int64(1), object(1)\n",
      "memory usage: 464.0+ bytes\n",
      "None\n"
     ]
    }
   ],
   "source": [
    "# mostrar información del DataFrame \"departments\"\n",
    "print(departments.head())\n",
    "print(\" \")\n",
    "print(departments.info())"
   ]
  },
  {
   "cell_type": "code",
   "execution_count": 7,
   "id": "6fc81694",
   "metadata": {
    "id": "6fc81694"
   },
   "outputs": [
    {
     "name": "stdout",
     "output_type": "stream",
     "text": [
      "   order_id  product_id  add_to_cart_order  reordered\n",
      "0   2141543       11440               17.0          0\n",
      "1    567889        1560                1.0          1\n",
      "2   2261212       26683                1.0          1\n",
      "3    491251        8670               35.0          1\n",
      "4   2571142        1940                5.0          1\n",
      " \n",
      "<class 'pandas.core.frame.DataFrame'>\n",
      "RangeIndex: 4545007 entries, 0 to 4545006\n",
      "Data columns (total 4 columns):\n",
      " #   Column             Dtype  \n",
      "---  ------             -----  \n",
      " 0   order_id           int64  \n",
      " 1   product_id         int64  \n",
      " 2   add_to_cart_order  float64\n",
      " 3   reordered          int64  \n",
      "dtypes: float64(1), int64(3)\n",
      "memory usage: 138.7 MB\n",
      "None\n"
     ]
    }
   ],
   "source": [
    "# mostrar información del DataFrame \"order_products\"\n",
    "print(order_products.head())\n",
    "print(\" \")\n",
    "print(order_products.info())"
   ]
  },
  {
   "cell_type": "markdown",
   "id": "t75BD19oaR5f",
   "metadata": {
    "id": "t75BD19oaR5f"
   },
   "source": [
    "## Conclusiones\n",
    "\n",
    "Escribe aquí tus conclusiones intermedias sobre el Paso 1. Descripción de los datos.\n",
    "En primera instancia, podemos ver que tenemos 5 archivos diferentes, donde cada uno muestra información relevante sobre ciertos aspectos de los datos de InstaCart. Metiendonos un poco más a la composición y a los tipos de datos de cada archivos, nos podemos dar cuenta que la gran parte de las columnas son int o float, aunque también podemos llegar a observar columnas de tipo object. Pasando a los datos nulos y posibles duplicados, podemos ver que en dos archivos existen datos nulos y para corroborar si hay valores duplicados deberemos hacer los cálculos pertinentes. Además, veo que los nombres de las columnas siguen los principios de redacción y son fáciles de entender. Considero que esos son los puntos a destacar de esta primer fase de descripción de los datos."
   ]
  },
  {
   "cell_type": "markdown",
   "id": "8RJHqxVmaVsF",
   "metadata": {
    "id": "8RJHqxVmaVsF"
   },
   "source": [
    "# Paso 2. Preprocesamiento de los datos\n",
    "\n",
    "Preprocesa los datos de la siguiente manera:\n",
    "\n",
    "- Verifica y corrige los tipos de datos (por ejemplo, asegúrate de que las columnas de ID sean números enteros).\n",
    "- Identifica y completa los valores ausentes.\n",
    "- Identifica y elimina los valores duplicados.\n",
    "\n",
    "Asegúrate de explicar qué tipos de valores ausentes y duplicados encontraste, cómo los completaste o eliminaste y por qué usaste esos métodos. ¿Por qué crees que estos valores ausentes y duplicados pueden haber estado presentes en el conjunto de datos?"
   ]
  },
  {
   "cell_type": "markdown",
   "id": "p6poABZQaZYb",
   "metadata": {
    "id": "p6poABZQaZYb"
   },
   "source": [
    "## Plan de solución\n",
    "\n",
    "Escribe aquí tu plan para el Paso 2. Preprocesamiento de los datos.\n",
    "Para esta segunda etapa del análisis, que consiste en el preprocesamiento de datos, mi plan de acción sería primero encontrar y eliminar los valores duplicados que llegasen a haber en los diferentes archivos. Después pasaré a analizar los posibles datos ausentes que se presenten en los archivos. Para ello primero determinaré cuántos valores ausentes hay en cada archivo para poder determinar que herramientas de manipulación (eliminar, sustituir, reemplazar, etc.) que sean las mejores para cada archivo y columnas. Por último considero que la parte del porque hice esto o aquello es de suma importancia poner para que la audiencia sepa y siga mi razonamiento lógico."
   ]
  },
  {
   "cell_type": "markdown",
   "id": "07357848-dc64-4156-9cc3-01ff4365226d",
   "metadata": {
    "id": "07357848-dc64-4156-9cc3-01ff4365226d"
   },
   "source": [
    "## Encuentra y elimina los valores duplicados (y describe cómo tomaste tus decisiones)."
   ]
  },
  {
   "cell_type": "markdown",
   "id": "f179f0a9",
   "metadata": {
    "id": "f179f0a9"
   },
   "source": [
    "### `instacart_orders` data frame"
   ]
  },
  {
   "cell_type": "code",
   "execution_count": 8,
   "id": "b99297a5-405a-463d-8535-9adc3da4ad74",
   "metadata": {
    "id": "b99297a5-405a-463d-8535-9adc3da4ad74"
   },
   "outputs": [
    {
     "name": "stdout",
     "output_type": "stream",
     "text": [
      "15\n"
     ]
    }
   ],
   "source": [
    "# Revisa si hay pedidos duplicados\n",
    "duplicatesOrders = orders.duplicated().sum() # Determinamos cuántas filas están duplicadas\n",
    "print(duplicatesOrders)"
   ]
  },
  {
   "cell_type": "code",
   "execution_count": 9,
   "id": "9957b50a",
   "metadata": {},
   "outputs": [
    {
     "name": "stdout",
     "output_type": "stream",
     "text": [
      "        order_id  user_id  order_number  order_dow  order_hour_of_day  \\\n",
      "30371    1918001   188546            14          3                  2   \n",
      "99462     794638    50898            24          3                  2   \n",
      "119251    408114    68324             4          3                  2   \n",
      "142258   2845099    31189            11          3                  2   \n",
      "145574    794638    50898            24          3                  2   \n",
      "164581   1112182   202304            84          3                  2   \n",
      "200059   1782114   106752             1          3                  2   \n",
      "204042   2125197    14050            48          3                  2   \n",
      "215294   2160484   107525            16          3                  2   \n",
      "223105   2160484   107525            16          3                  2   \n",
      "230807   1918001   188546            14          3                  2   \n",
      "242618   1021560    53767             3          3                  2   \n",
      "250626    467134    63189            21          3                  2   \n",
      "257934   1919531   191501            32          3                  2   \n",
      "259636   2282673    86751            49          3                  2   \n",
      "266232   1782114   106752             1          3                  2   \n",
      "273805   1112182   202304            84          3                  2   \n",
      "284038   2845099    31189            11          3                  2   \n",
      "311713   1021560    53767             3          3                  2   \n",
      "314427   1286742   183220            48          3                  2   \n",
      "321100    408114    68324             4          3                  2   \n",
      "323900   1919531   191501            32          3                  2   \n",
      "324868   2232988    82565             1          3                  2   \n",
      "345917   2232988    82565             1          3                  2   \n",
      "354993    391768    57671            19          3                  2   \n",
      "371905    391768    57671            19          3                  2   \n",
      "394347    467134    63189            21          3                  2   \n",
      "411408   1286742   183220            48          3                  2   \n",
      "415163   2282673    86751            49          3                  2   \n",
      "441599   2125197    14050            48          3                  2   \n",
      "\n",
      "        days_since_prior_order  \n",
      "30371                     16.0  \n",
      "99462                      2.0  \n",
      "119251                    18.0  \n",
      "142258                     7.0  \n",
      "145574                     2.0  \n",
      "164581                     6.0  \n",
      "200059                     NaN  \n",
      "204042                     3.0  \n",
      "215294                    30.0  \n",
      "223105                    30.0  \n",
      "230807                    16.0  \n",
      "242618                     9.0  \n",
      "250626                     2.0  \n",
      "257934                     7.0  \n",
      "259636                     2.0  \n",
      "266232                     NaN  \n",
      "273805                     6.0  \n",
      "284038                     7.0  \n",
      "311713                     9.0  \n",
      "314427                     4.0  \n",
      "321100                    18.0  \n",
      "323900                     7.0  \n",
      "324868                     NaN  \n",
      "345917                     NaN  \n",
      "354993                    10.0  \n",
      "371905                    10.0  \n",
      "394347                     2.0  \n",
      "411408                     4.0  \n",
      "415163                     2.0  \n",
      "441599                     3.0  \n"
     ]
    }
   ],
   "source": [
    "dupOrders = orders[orders.duplicated(keep=False)] # Mostramos que filas están duplicadas para ver que tienen en común\n",
    "print(dupOrders)"
   ]
  },
  {
   "cell_type": "markdown",
   "id": "PEkwUX_gvt5A",
   "metadata": {
    "id": "PEkwUX_gvt5A"
   },
   "source": [
    "¿Tienes líneas duplicadas? Si sí, ¿qué tienen en común?\n",
    "En este archivo existen 15 líneas duplicadas, que lo que tienen en común es que todos los pedidos se hicieron el día \"3\" (miércoles) a las \"2\" de la mañana."
   ]
  },
  {
   "cell_type": "code",
   "execution_count": 10,
   "id": "0d44de5d",
   "metadata": {
    "id": "0d44de5d"
   },
   "outputs": [
    {
     "name": "stdout",
     "output_type": "stream",
     "text": [
      "        order_id  user_id  order_number  order_dow  order_hour_of_day  \\\n",
      "4838     2766110   162084            41          3                  2   \n",
      "5156     2190225   138285            18          3                  2   \n",
      "15506     553049    58599            13          3                  2   \n",
      "18420     382357   120200            19          3                  2   \n",
      "24691     690242    77357             2          3                  2   \n",
      "...          ...      ...           ...        ...                ...   \n",
      "457013   3384021    14881             6          3                  2   \n",
      "458816    910166   164782            18          3                  2   \n",
      "459635   1680532   106435             6          3                  2   \n",
      "468324    222962    54979            59          3                  2   \n",
      "477526   2592344    46860            38          3                  2   \n",
      "\n",
      "        days_since_prior_order  \n",
      "4838                      16.0  \n",
      "5156                      11.0  \n",
      "15506                      7.0  \n",
      "18420                     11.0  \n",
      "24691                      9.0  \n",
      "...                        ...  \n",
      "457013                    30.0  \n",
      "458816                     4.0  \n",
      "459635                    21.0  \n",
      "468324                     3.0  \n",
      "477526                     3.0  \n",
      "\n",
      "[121 rows x 6 columns]\n"
     ]
    }
   ],
   "source": [
    "# Basándote en tus hallazgos,\n",
    "# Verifica todos los pedidos que se hicieron el miércoles a las 2:00 a.m.\n",
    "pedidos_mier_2am = orders[(orders['order_dow'] == 3) & (orders['order_hour_of_day'] == 2)]\n",
    "print(pedidos_mier_2am)"
   ]
  },
  {
   "cell_type": "markdown",
   "id": "vu2OWyoqwOx5",
   "metadata": {
    "id": "vu2OWyoqwOx5"
   },
   "source": [
    "¿Qué sugiere este resultado?\n",
    "Eñ hecho de que las líneas duplicadas tengan como factor comunes el miércoles (3) a las 2 de la mañana me dice que a lo mejor el sistema a esa horas sufrió de imperfecciones y todas las compras las estuvo marcando dos veces, aspecto que puede sesgar nuestros datos y referirnos a conclusiones posiblemente erroneas."
   ]
  },
  {
   "cell_type": "code",
   "execution_count": 11,
   "id": "480563c7",
   "metadata": {
    "id": "480563c7"
   },
   "outputs": [],
   "source": [
    "# Elimina los pedidos duplicados\n",
    "orders.drop_duplicates(inplace=True)"
   ]
  },
  {
   "cell_type": "code",
   "execution_count": 12,
   "id": "0b2396a2",
   "metadata": {
    "id": "0b2396a2"
   },
   "outputs": [
    {
     "name": "stdout",
     "output_type": "stream",
     "text": [
      "0\n"
     ]
    }
   ],
   "source": [
    "# Vuelve a verificar si hay filas duplicadas\n",
    "duplicatesOrders = orders.duplicated().sum() # Corroboramos que ya se eliminaron los valores duplicados\n",
    "print(duplicatesOrders)"
   ]
  },
  {
   "cell_type": "code",
   "execution_count": 13,
   "id": "027db2dd",
   "metadata": {},
   "outputs": [
    {
     "name": "stdout",
     "output_type": "stream",
     "text": [
      "Empty DataFrame\n",
      "Columns: [order_id, user_id, order_number, order_dow, order_hour_of_day, days_since_prior_order]\n",
      "Index: []\n"
     ]
    }
   ],
   "source": [
    "dupOrders = orders[orders.duplicated(keep=False)] # Mostramos que filas están duplicadas y nos damos cuenta que ya no hay ninguna\n",
    "print(dupOrders)"
   ]
  },
  {
   "cell_type": "code",
   "execution_count": 14,
   "id": "f6113ef1",
   "metadata": {
    "id": "f6113ef1"
   },
   "outputs": [
    {
     "name": "stdout",
     "output_type": "stream",
     "text": [
      "0\n",
      "0\n"
     ]
    }
   ],
   "source": [
    "# Vuelve a verificar si hay IDs duplicados de pedidos\n",
    "duplicatesOrder = orders['order_id'].duplicated().sum() # Corroboramos que no hay valores duplicados en ID Orders\n",
    "print(duplicatesOrder)\n",
    "duplicatesUser = orders['order_id'].duplicated().sum() # Corroboramos que no hay valores duplicados en ID Users\n",
    "print(duplicatesUser)"
   ]
  },
  {
   "cell_type": "markdown",
   "id": "5e8905ae",
   "metadata": {
    "id": "5e8905ae"
   },
   "source": [
    "Describe brevemente tus hallazgos y lo que hiciste con ellos\n",
    "Al inicio del análisis lo primero que hice fue ver cuántas filas duplicadas había y para mi sorpresa me encontré con 15 duplicados. Analizando el porque de ellos, me di cuenta que todos se habían dado el día \"3\" (miércoles) a las 2 am, por lo que asumí que pudo ser error del sistema en ese día a esa hora. Como ya tenía este entendido, procedí a eliminarlos porque ya había corroborado que en efecto eran datos duplicados, proveninientes de posibles fallas en el sistema de recopilación de datos. Al eliminarlos, volví a corroborar que ya no hubiera datos duplicados y así fue. Ahora este archivo ya no tiene datos duplicados."
   ]
  },
  {
   "cell_type": "markdown",
   "id": "45e6bc46",
   "metadata": {
    "id": "45e6bc46"
   },
   "source": [
    "### `products` data frame"
   ]
  },
  {
   "cell_type": "code",
   "execution_count": 15,
   "id": "5f526b5b-8175-46fa-a0fd-441767d50e64",
   "metadata": {
    "id": "5f526b5b-8175-46fa-a0fd-441767d50e64"
   },
   "outputs": [
    {
     "name": "stdout",
     "output_type": "stream",
     "text": [
      "0\n"
     ]
    }
   ],
   "source": [
    "# Verifica si hay filas totalmente duplicadas\n",
    "duplicatesProducts = products.duplicated().sum() # Determinamos cuántas filas están duplicadas\n",
    "print(duplicatesProducts)"
   ]
  },
  {
   "cell_type": "code",
   "execution_count": 16,
   "id": "88daa4f4",
   "metadata": {
    "id": "88daa4f4"
   },
   "outputs": [
    {
     "name": "stdout",
     "output_type": "stream",
     "text": [
      "0\n",
      "49560\n"
     ]
    }
   ],
   "source": [
    "# Verifica si hay IDs duplicadas de productos\n",
    "productID = products['product_id'].duplicated().sum() # Corroboramos si hay valores duplicados en ID Products\n",
    "print(productID) \n",
    "aisleID = products['aisle_id'].duplicated().sum() # Corroboramos si hay valores duplicados en ID Aisles\n",
    "print(aisleID)\n",
    "\n",
    "# Nos damos cuenta que no hay duplicados en productID pero si en aisleID"
   ]
  },
  {
   "cell_type": "code",
   "execution_count": 17,
   "id": "73f88647",
   "metadata": {},
   "outputs": [
    {
     "data": {
      "text/html": [
       "<div>\n",
       "<style scoped>\n",
       "    .dataframe tbody tr th:only-of-type {\n",
       "        vertical-align: middle;\n",
       "    }\n",
       "\n",
       "    .dataframe tbody tr th {\n",
       "        vertical-align: top;\n",
       "    }\n",
       "\n",
       "    .dataframe thead th {\n",
       "        text-align: right;\n",
       "    }\n",
       "</style>\n",
       "<table border=\"1\" class=\"dataframe\">\n",
       "  <thead>\n",
       "    <tr style=\"text-align: right;\">\n",
       "      <th></th>\n",
       "      <th>product_id</th>\n",
       "      <th>product_name</th>\n",
       "      <th>aisle_id</th>\n",
       "      <th>department_id</th>\n",
       "    </tr>\n",
       "  </thead>\n",
       "  <tbody>\n",
       "    <tr>\n",
       "      <th>0</th>\n",
       "      <td>1</td>\n",
       "      <td>Chocolate Sandwich Cookies</td>\n",
       "      <td>61</td>\n",
       "      <td>19</td>\n",
       "    </tr>\n",
       "    <tr>\n",
       "      <th>1</th>\n",
       "      <td>2</td>\n",
       "      <td>All-Seasons Salt</td>\n",
       "      <td>104</td>\n",
       "      <td>13</td>\n",
       "    </tr>\n",
       "    <tr>\n",
       "      <th>2</th>\n",
       "      <td>3</td>\n",
       "      <td>Robust Golden Unsweetened Oolong Tea</td>\n",
       "      <td>94</td>\n",
       "      <td>7</td>\n",
       "    </tr>\n",
       "    <tr>\n",
       "      <th>3</th>\n",
       "      <td>4</td>\n",
       "      <td>Smart Ones Classic Favorites Mini Rigatoni Wit...</td>\n",
       "      <td>38</td>\n",
       "      <td>1</td>\n",
       "    </tr>\n",
       "    <tr>\n",
       "      <th>4</th>\n",
       "      <td>5</td>\n",
       "      <td>Green Chile Anytime Sauce</td>\n",
       "      <td>5</td>\n",
       "      <td>13</td>\n",
       "    </tr>\n",
       "    <tr>\n",
       "      <th>...</th>\n",
       "      <td>...</td>\n",
       "      <td>...</td>\n",
       "      <td>...</td>\n",
       "      <td>...</td>\n",
       "    </tr>\n",
       "    <tr>\n",
       "      <th>49689</th>\n",
       "      <td>49690</td>\n",
       "      <td>HIGH PERFORMANCE ENERGY DRINK</td>\n",
       "      <td>64</td>\n",
       "      <td>7</td>\n",
       "    </tr>\n",
       "    <tr>\n",
       "      <th>49690</th>\n",
       "      <td>49691</td>\n",
       "      <td>ORIGINAL PANCAKE &amp; WAFFLE MIX</td>\n",
       "      <td>130</td>\n",
       "      <td>14</td>\n",
       "    </tr>\n",
       "    <tr>\n",
       "      <th>49691</th>\n",
       "      <td>49692</td>\n",
       "      <td>ORGANIC INSTANT OATMEAL LIGHT MAPLE BROWN SUGAR</td>\n",
       "      <td>130</td>\n",
       "      <td>14</td>\n",
       "    </tr>\n",
       "    <tr>\n",
       "      <th>49692</th>\n",
       "      <td>49693</td>\n",
       "      <td>SPRING WATER BODY WASH</td>\n",
       "      <td>127</td>\n",
       "      <td>11</td>\n",
       "    </tr>\n",
       "    <tr>\n",
       "      <th>49693</th>\n",
       "      <td>49694</td>\n",
       "      <td>BURRITO- STEAK &amp; CHEESE</td>\n",
       "      <td>38</td>\n",
       "      <td>1</td>\n",
       "    </tr>\n",
       "  </tbody>\n",
       "</table>\n",
       "<p>49694 rows × 4 columns</p>\n",
       "</div>"
      ],
      "text/plain": [
       "       product_id                                       product_name  \\\n",
       "0               1                         Chocolate Sandwich Cookies   \n",
       "1               2                                   All-Seasons Salt   \n",
       "2               3               Robust Golden Unsweetened Oolong Tea   \n",
       "3               4  Smart Ones Classic Favorites Mini Rigatoni Wit...   \n",
       "4               5                          Green Chile Anytime Sauce   \n",
       "...           ...                                                ...   \n",
       "49689       49690                      HIGH PERFORMANCE ENERGY DRINK   \n",
       "49690       49691                      ORIGINAL PANCAKE & WAFFLE MIX   \n",
       "49691       49692    ORGANIC INSTANT OATMEAL LIGHT MAPLE BROWN SUGAR   \n",
       "49692       49693                             SPRING WATER BODY WASH   \n",
       "49693       49694                            BURRITO- STEAK & CHEESE   \n",
       "\n",
       "       aisle_id  department_id  \n",
       "0            61             19  \n",
       "1           104             13  \n",
       "2            94              7  \n",
       "3            38              1  \n",
       "4             5             13  \n",
       "...         ...            ...  \n",
       "49689        64              7  \n",
       "49690       130             14  \n",
       "49691       130             14  \n",
       "49692       127             11  \n",
       "49693        38              1  \n",
       "\n",
       "[49694 rows x 4 columns]"
      ]
     },
     "execution_count": 17,
     "metadata": {},
     "output_type": "execute_result"
    }
   ],
   "source": [
    "products"
   ]
  },
  {
   "cell_type": "code",
   "execution_count": 18,
   "id": "c773f0bf",
   "metadata": {
    "id": "c773f0bf"
   },
   "outputs": [
    {
     "data": {
      "text/plain": [
       "0                               CHOCOLATE SANDWICH COOKIES\n",
       "1                                         ALL-SEASONS SALT\n",
       "2                     ROBUST GOLDEN UNSWEETENED OOLONG TEA\n",
       "3        SMART ONES CLASSIC FAVORITES MINI RIGATONI WIT...\n",
       "4                                GREEN CHILE ANYTIME SAUCE\n",
       "                               ...                        \n",
       "49689                        HIGH PERFORMANCE ENERGY DRINK\n",
       "49690                        ORIGINAL PANCAKE & WAFFLE MIX\n",
       "49691      ORGANIC INSTANT OATMEAL LIGHT MAPLE BROWN SUGAR\n",
       "49692                               SPRING WATER BODY WASH\n",
       "49693                              BURRITO- STEAK & CHEESE\n",
       "Name: product_name_upper, Length: 49694, dtype: object"
      ]
     },
     "execution_count": 18,
     "metadata": {},
     "output_type": "execute_result"
    }
   ],
   "source": [
    "# Revisa si hay nombres duplicados de productos (convierte los nombres a letras mayúsculas para compararlos mejor)\n",
    "products['product_name_upper'] = products['product_name'].str.upper()\n",
    "products['product_name_upper']\n",
    "\n",
    "# Se muestra la columna creada \"´product_name_upper\", donde se ve que todos los nombres están en mayúsuclas"
   ]
  },
  {
   "cell_type": "code",
   "execution_count": 19,
   "id": "49423c62",
   "metadata": {},
   "outputs": [
    {
     "name": "stdout",
     "output_type": "stream",
     "text": [
      "104\n"
     ]
    }
   ],
   "source": [
    "# Revisa si hay nombres duplicados de productos no faltantes\n",
    "\n",
    "dupProductName = products[(~products['product_name'].isna()) & products['product_name_upper'].duplicated()]\n",
    "\n",
    "# Imprimir el número total de productos duplicados no nulos\n",
    "print(dupProductName.shape[0]) \n"
   ]
  },
  {
   "cell_type": "markdown",
   "id": "b4289c9d",
   "metadata": {},
   "source": [
    "El análisis realizado en el código muestra una verificación exhaustiva de posibles duplicados en el conjunto de datos de productos. Se comprueba si hay filas completamente duplicadas, IDs duplicadas en las columnas product_id y aisle_id, así como nombres duplicados de productos, normalizando los nombres a mayúsculas para evitar diferencias en el formato. Además, se identifican los nombres de productos duplicados que no están ausentes (no nulos). Este enfoque garantiza una limpieza de datos más robusta, detectando inconsistencias que podrían afectar la calidad del análisis posterior."
   ]
  },
  {
   "cell_type": "markdown",
   "id": "60f30db1",
   "metadata": {
    "id": "60f30db1"
   },
   "source": [
    "### `departments` data frame"
   ]
  },
  {
   "cell_type": "code",
   "execution_count": 20,
   "id": "fb410ad4-0fbf-4b80-bb09-23fdea79afe3",
   "metadata": {
    "id": "fb410ad4-0fbf-4b80-bb09-23fdea79afe3"
   },
   "outputs": [
    {
     "name": "stdout",
     "output_type": "stream",
     "text": [
      "0\n"
     ]
    }
   ],
   "source": [
    "# Revisa si hay filas totalmente duplicadas\n",
    "duplicatesDepartments = departments.duplicated().sum() # Determinamos cuántas filas están duplicadas\n",
    "print(duplicatesDepartments)\n",
    "\n",
    "# No hay valores duplicados en este archivo"
   ]
  },
  {
   "cell_type": "code",
   "execution_count": 21,
   "id": "332b12bb",
   "metadata": {
    "id": "332b12bb"
   },
   "outputs": [
    {
     "name": "stdout",
     "output_type": "stream",
     "text": [
      "0\n"
     ]
    }
   ],
   "source": [
    "# Revisa si hay IDs duplicadas de productos\n",
    "departmentID = departments['department_id'].duplicated().sum()\n",
    "print(departmentID)\n",
    "\n",
    "# No hay valores duplicados en la columna de departmentID"
   ]
  },
  {
   "cell_type": "markdown",
   "id": "bd30d78e",
   "metadata": {
    "id": "bd30d78e"
   },
   "source": [
    "En este archivo de \"departments\" pudimos darnos cuenta que no hay filas duplicadas y que los departmentsID son totalmente únicos. Revisando el análisis, me di cuenta que este archivo solo contiene 21 filas únicas con la información de los departamentos."
   ]
  },
  {
   "cell_type": "markdown",
   "id": "889349c1",
   "metadata": {
    "id": "889349c1"
   },
   "source": [
    "### `aisles` data frame"
   ]
  },
  {
   "cell_type": "code",
   "execution_count": 22,
   "id": "9da89fb9-4679-40f5-ad0d-c34df753a3f8",
   "metadata": {
    "id": "9da89fb9-4679-40f5-ad0d-c34df753a3f8"
   },
   "outputs": [
    {
     "name": "stdout",
     "output_type": "stream",
     "text": [
      "0\n"
     ]
    }
   ],
   "source": [
    "# Revisa si hay filas totalmente duplicadas\n",
    "duplicatesAisles = aisles.duplicated().sum() # Determinamos cuántas filas están duplicadas\n",
    "print(duplicatesAisles)\n",
    "\n",
    "# No hay valores duplicados en este archivo"
   ]
  },
  {
   "cell_type": "code",
   "execution_count": 23,
   "id": "da7c2822",
   "metadata": {
    "id": "da7c2822"
   },
   "outputs": [
    {
     "name": "stdout",
     "output_type": "stream",
     "text": [
      "0\n"
     ]
    }
   ],
   "source": [
    "# Revisa si hay IDs duplicadas de productos\n",
    "aislesID = aisles['aisle_id'].duplicated().sum()\n",
    "print(aislesID)\n",
    "\n",
    "# No hay valores duplicados en la columna de aislesID"
   ]
  },
  {
   "cell_type": "markdown",
   "id": "ac63826f",
   "metadata": {
    "id": "ac63826f"
   },
   "source": [
    "Al igual que en el archivo de \"departments\" en este archivo de \"aisles\" pudimos darnos cuenta que no hay filas duplicadas y que los aislesID son totalmente únicos. Revisando el análisis, me di cuenta que este archivo solo contiene 134 filas únicas con la información de los aisles."
   ]
  },
  {
   "cell_type": "markdown",
   "id": "274cd06a",
   "metadata": {
    "id": "274cd06a"
   },
   "source": [
    "### `order_products` data frame"
   ]
  },
  {
   "cell_type": "code",
   "execution_count": 24,
   "id": "52326689-84a8-4b8f-a881-7c68780f62c9",
   "metadata": {
    "id": "52326689-84a8-4b8f-a881-7c68780f62c9"
   },
   "outputs": [
    {
     "name": "stdout",
     "output_type": "stream",
     "text": [
      "0\n"
     ]
    }
   ],
   "source": [
    "# Revisa si hay filas totalmente duplicadas\n",
    "duplicatesOrderProducts = order_products.duplicated().sum() # Determinamos cuántas filas están duplicadas\n",
    "print(duplicatesOrderProducts)\n",
    "\n",
    "# No hay valores duplicados en este archivo"
   ]
  },
  {
   "cell_type": "code",
   "execution_count": 25,
   "id": "7b861391",
   "metadata": {
    "id": "7b861391"
   },
   "outputs": [
    {
     "name": "stdout",
     "output_type": "stream",
     "text": [
      "4094961\n",
      "4499434\n"
     ]
    }
   ],
   "source": [
    "# Vuelve a verificar si hay cualquier otro duplicado engañoso\n",
    "orderID = order_products['order_id'].duplicated().sum()\n",
    "print(orderID)\n",
    "productID = order_products['product_id'].duplicated().sum()\n",
    "print(productID)\n",
    "\n",
    "# Sí hay demasiados valores duplicados en este archivo, principalmente en las dos columnas de ID's del archivo"
   ]
  },
  {
   "cell_type": "code",
   "execution_count": 26,
   "id": "acec0e5a",
   "metadata": {},
   "outputs": [],
   "source": [
    "# Elimina los pedidos duplicados\n",
    "order_products.drop_duplicates(inplace=True)"
   ]
  },
  {
   "cell_type": "code",
   "execution_count": 27,
   "id": "caf7e562",
   "metadata": {},
   "outputs": [
    {
     "name": "stdout",
     "output_type": "stream",
     "text": [
      "4094961\n",
      "4499434\n"
     ]
    }
   ],
   "source": [
    "orderID = order_products['order_id'].duplicated().sum()\n",
    "print(orderID)\n",
    "productID = order_products['product_id'].duplicated().sum()\n",
    "print(productID)"
   ]
  },
  {
   "cell_type": "markdown",
   "id": "0b890492",
   "metadata": {
    "id": "0b890492"
   },
   "source": [
    "En este archivo lo que me di cuenta es que no hubo filas duplicadas, pero si hubieron tanto orderID´s como productID's repetidos o duplicados. Al intentar eliminar estos valores duplicados, no pude hacerlo porque por ejemplo solo el orderID o productID estaban duplicados, no toda la fila como tal. De esta manera, no se pudo eliminar los valores duplicados de esas columnas, por lo que nos quedamos con la BD original."
   ]
  },
  {
   "cell_type": "markdown",
   "id": "1e46de76",
   "metadata": {
    "id": "1e46de76"
   },
   "source": [
    "## Encuentra y elimina los valores ausentes\n",
    "\n",
    "Al trabajar con valores duplicados, pudimos observar que también nos falta investigar valores ausentes:\n",
    "\n",
    "* La columna `'product_name'` de la tabla products.\n",
    "* La columna `'days_since_prior_order'` de la tabla orders.\n",
    "* La columna `'add_to_cart_order'` de la tabla order_productos."
   ]
  },
  {
   "cell_type": "markdown",
   "id": "c0aebd78",
   "metadata": {
    "id": "c0aebd78"
   },
   "source": [
    "### `products` data frame"
   ]
  },
  {
   "cell_type": "code",
   "execution_count": 28,
   "id": "fe4a8b0f",
   "metadata": {
    "id": "fe4a8b0f"
   },
   "outputs": [
    {
     "name": "stdout",
     "output_type": "stream",
     "text": [
      "1258\n"
     ]
    }
   ],
   "source": [
    "# Encuentra los valores ausentes en la columna 'product_name'\n",
    "products_na = products['product_name'].isna().sum()\n",
    "print(products_na)"
   ]
  },
  {
   "cell_type": "markdown",
   "id": "-A6x1AbJhjkp",
   "metadata": {
    "id": "-A6x1AbJhjkp"
   },
   "source": [
    "Para el archivo de \"products\" en la columna \"product_name\" podemos ver que hay 1,258 valores nulos. A lo mejor y esto se deba a un error en el sistema o simplemente porque al usuario se le olvidó poner el nombre del producto en su compra"
   ]
  },
  {
   "cell_type": "code",
   "execution_count": 29,
   "id": "e96167bc",
   "metadata": {
    "id": "e96167bc"
   },
   "outputs": [
    {
     "name": "stdout",
     "output_type": "stream",
     "text": [
      "Todos los productos ausentes están relacionados con el pasillo con ID 100.\n"
     ]
    }
   ],
   "source": [
    "#  ¿Todos los nombres de productos ausentes están relacionados con el pasillo con ID 100?\n",
    "# Creamos un df con los valores ausentes en la columna \"product_name\"\n",
    "product_names_na = products[products['product_name'].isna()] \n",
    "\n",
    "# Verificamos si todas las filas con nombre de producto ausente tienen AisleID igual a 100\n",
    "relacionado_pasillo_100 = (product_names_na['aisle_id'] == 100).all()\n",
    "\n",
    "# Imprimimos is en efecto es así o no\n",
    "if relacionado_pasillo_100:\n",
    "    print(\"Todos los productos ausentes están relacionados con el pasillo con ID 100.\")\n",
    "else:\n",
    "    print(\"No todos los productos ausentes están relacionados con el pasillo con ID 100.\")"
   ]
  },
  {
   "cell_type": "markdown",
   "id": "WRpIfXRphpSL",
   "metadata": {
    "id": "WRpIfXRphpSL"
   },
   "source": [
    "Al realizar el análisis nos dimos cuenta que en efecto, todos los productos ausentes están relacionados con el pasillo ID 100. Esto nos da a entender que pudo haber fallas en la fuente de datos, una falta de limpieza o simplemente pueda ser una pasillo especial dentro de la empresa."
   ]
  },
  {
   "cell_type": "code",
   "execution_count": 30,
   "id": "8fd0a541",
   "metadata": {
    "id": "8fd0a541"
   },
   "outputs": [
    {
     "name": "stdout",
     "output_type": "stream",
     "text": [
      "Todos los productos ausentes están relacionados con el departamento con ID 21.\n"
     ]
    }
   ],
   "source": [
    "# ¿Todos los nombres de productos ausentes están relacionados con el departamento con ID 21?\n",
    "# Creamos un df con los valores ausentes en la columna \"product_name\"\n",
    "product_names_na = products[products['product_name'].isna()] \n",
    "\n",
    "# Verificamos si todas las filas con nombre de producto ausente tienen AisleID igual a 100\n",
    "relacionado_departamento_21 = (product_names_na['department_id'] == 21).all()\n",
    "\n",
    "# Imprimimos is en efecto es así o no\n",
    "if relacionado_departamento_21:\n",
    "    print(\"Todos los productos ausentes están relacionados con el departamento con ID 21.\")\n",
    "else:\n",
    "    print(\"No todos los productos ausentes están relacionados con el departamento con ID 21.\")"
   ]
  },
  {
   "cell_type": "markdown",
   "id": "qDpdYn1Fht_I",
   "metadata": {
    "id": "qDpdYn1Fht_I"
   },
   "source": [
    "Al realizar el análisis nos dimos cuenta que en efecto, todos los productos ausentes están relacionados con el departemento ID 21. Esto nos da a entender que pudo haber fallas en la fuente de datos, una falta de limpieza o simplemente pueda ser un departamento especial dentro de la empresa."
   ]
  },
  {
   "cell_type": "code",
   "execution_count": 31,
   "id": "325c3464",
   "metadata": {
    "id": "325c3464"
   },
   "outputs": [
    {
     "name": "stdout",
     "output_type": "stream",
     "text": [
      "AisleID == 100\n",
      "       product_id product_name  aisle_id  department_id product_name_upper\n",
      "37             38          NaN       100             21                NaN\n",
      "71             72          NaN       100             21                NaN\n",
      "109           110          NaN       100             21                NaN\n",
      "296           297          NaN       100             21                NaN\n",
      "416           417          NaN       100             21                NaN\n",
      "...           ...          ...       ...            ...                ...\n",
      "49552       49553          NaN       100             21                NaN\n",
      "49574       49575          NaN       100             21                NaN\n",
      "49640       49641          NaN       100             21                NaN\n",
      "49663       49664          NaN       100             21                NaN\n",
      "49668       49669          NaN       100             21                NaN\n",
      "\n",
      "[1258 rows x 5 columns]\n",
      " \n",
      "DepartmentID == 21\n",
      "       product_id product_name  aisle_id  department_id product_name_upper\n",
      "37             38          NaN       100             21                NaN\n",
      "71             72          NaN       100             21                NaN\n",
      "109           110          NaN       100             21                NaN\n",
      "296           297          NaN       100             21                NaN\n",
      "416           417          NaN       100             21                NaN\n",
      "...           ...          ...       ...            ...                ...\n",
      "49552       49553          NaN       100             21                NaN\n",
      "49574       49575          NaN       100             21                NaN\n",
      "49640       49641          NaN       100             21                NaN\n",
      "49663       49664          NaN       100             21                NaN\n",
      "49668       49669          NaN       100             21                NaN\n",
      "\n",
      "[1258 rows x 5 columns]\n"
     ]
    }
   ],
   "source": [
    "# Usa las tablas department y aisle para revisar los datos del pasillo con ID 100 y el departamento con ID 21.\n",
    "aisle_100 = products[products['aisle_id'] == 100] # Filtramos el DF para sacar los datos con aisle_id = 100\n",
    "department_21 = products[products['department_id'] == 21] # Filtramos el DF para sacar los datos con department_id = 21\n",
    "\n",
    "print(\"AisleID == 100\")\n",
    "print(aisle_100)\n",
    "print(\" \")\n",
    "print(\"DepartmentID == 21\")\n",
    "print(department_21)"
   ]
  },
  {
   "cell_type": "markdown",
   "id": "nqhSTUPhhvEJ",
   "metadata": {
    "id": "nqhSTUPhhvEJ"
   },
   "source": [
    "Viendo los dos DF nos podemos dar cuenta que ambos en la columna \"product_name\" muestran el valor \"NaN\", por lo que entendemos que para el aisle 100 y department 21 no existen nombres de productos. Volvemos a lo mismo, esto se puede deber a fallas en la fuente de datos, una falta de limpieza o simplemente pueda ser un pasillo o departamento especial dentro de la empresa"
   ]
  },
  {
   "cell_type": "code",
   "execution_count": 32,
   "id": "6b295120",
   "metadata": {
    "id": "6b295120"
   },
   "outputs": [
    {
     "name": "stdout",
     "output_type": "stream",
     "text": [
      "0\n"
     ]
    }
   ],
   "source": [
    "# Completa los nombres de productos ausentes con 'Unknown'\n",
    "products['product_name'] = products['product_name'].fillna('Unknown')\n",
    "\n",
    "products_na = products['product_name'].isna().sum() # corroboré que ya nu hubieran NaN's en la columna \"product_name\"\n",
    "print(products_na)"
   ]
  },
  {
   "cell_type": "code",
   "execution_count": 33,
   "id": "bc147b35",
   "metadata": {},
   "outputs": [
    {
     "name": "stdout",
     "output_type": "stream",
     "text": [
      "Unknown                                                                        1258\n",
      "Apple Junifer                                                                     1\n",
      "Black Raspberry/Cherry Limeade/Orange Mango/Kiwi Strawberry Sparkling Water       1\n",
      "Whole Golden Zahidi Dates                                                         1\n",
      "Strawberry Banana Coconut Milk Yogurt                                             1\n",
      "                                                                               ... \n",
      "Water Capsules- Extended Relief                                                   1\n",
      "Crushed Rosemary                                                                  1\n",
      "New England Clam Chowder Condensed Soup                                           1\n",
      "Sliced Wheat Bread                                                                1\n",
      "Chocolate Almond Bar                                                              1\n",
      "Name: product_name, Length: 48437, dtype: int64\n"
     ]
    }
   ],
   "source": [
    "value_counts = products['product_name'].value_counts() # Conté los valores de cada elemento de la columna para determinar si los valores \"NaN\" fueron cambiados a \"Unknown\" con éxito y así fue.\n",
    "print(value_counts)"
   ]
  },
  {
   "cell_type": "markdown",
   "id": "fc70e5ad",
   "metadata": {
    "id": "fc70e5ad"
   },
   "source": [
    "Del ejercicio pasado ya sabíamos que había valores NaN en el departamento 21 y en el asile 100, por lo que procedí a reemplazar esos valores NaN,s por la palabra \"Unknown\". Como se muestra arriba, este cambio se logró con éxito debido a que ahora el valor de los 1,258 valores NaN´s ahora es \"Unknown\" como lo habíamos plantado desde un inicio."
   ]
  },
  {
   "cell_type": "markdown",
   "id": "7eb45c86",
   "metadata": {
    "id": "7eb45c86"
   },
   "source": [
    "### `orders` data frame"
   ]
  },
  {
   "cell_type": "code",
   "execution_count": 34,
   "id": "93e41d96",
   "metadata": {
    "id": "93e41d96"
   },
   "outputs": [
    {
     "name": "stdout",
     "output_type": "stream",
     "text": [
      "order_id                      0\n",
      "user_id                       0\n",
      "order_number                  0\n",
      "order_dow                     0\n",
      "order_hour_of_day             0\n",
      "days_since_prior_order    28817\n",
      "dtype: int64\n"
     ]
    }
   ],
   "source": [
    "# Encuentra los valores ausentes\n",
    "orders_na = orders.isna().sum()\n",
    "print(orders_na)"
   ]
  },
  {
   "cell_type": "code",
   "execution_count": 35,
   "id": "166e5a86",
   "metadata": {
    "id": "166e5a86"
   },
   "outputs": [],
   "source": [
    "# ¿Hay algún valor ausente que no sea el primer pedido del cliente?\n",
    "# No"
   ]
  },
  {
   "cell_type": "markdown",
   "id": "4e23d089",
   "metadata": {
    "id": "4e23d089"
   },
   "source": [
    "Al visualizar los valores ausentes en este archivo, me di cuenta que los únicos valores que se mostraban como austentes eran en la columna de \"days_since_prior_order, lo cuál tiene sentido porque puede haber clientes nuevos que no tienen esta campo lleno. Que en este archivo no haya valores austentes nos habla que en términos de valores austenes, no tiene. lo cual es bueno porque no tenemoso que manipularlos o reemplazarlos."
   ]
  },
  {
   "cell_type": "markdown",
   "id": "69dc9ca4",
   "metadata": {
    "id": "69dc9ca4"
   },
   "source": [
    "### `order_products` data frame"
   ]
  },
  {
   "cell_type": "code",
   "execution_count": 36,
   "id": "b8240253",
   "metadata": {
    "id": "b8240253"
   },
   "outputs": [
    {
     "name": "stdout",
     "output_type": "stream",
     "text": [
      "order_id               0\n",
      "product_id             0\n",
      "add_to_cart_order    836\n",
      "reordered              0\n",
      "dtype: int64\n"
     ]
    }
   ],
   "source": [
    "# Encuentra los valores ausentes\n",
    "order_products_na = order_products.isna().sum()\n",
    "print(order_products_na)"
   ]
  },
  {
   "cell_type": "code",
   "execution_count": 37,
   "id": "9a78e5ee",
   "metadata": {
    "id": "9a78e5ee"
   },
   "outputs": [
    {
     "name": "stdout",
     "output_type": "stream",
     "text": [
      "1.0\n",
      "64.0\n"
     ]
    }
   ],
   "source": [
    "# ¿Cuáles son los valores mínimos y máximos en esta columna?\n",
    "max_add_to_cart = min(order_products['add_to_cart_order'])\n",
    "min_add_to_cart = max(order_products['add_to_cart_order'])\n",
    "\n",
    "print(max_add_to_cart)\n",
    "print(min_add_to_cart)"
   ]
  },
  {
   "cell_type": "markdown",
   "id": "-Z2Ja215jW78",
   "metadata": {
    "id": "-Z2Ja215jW78"
   },
   "source": [
    "Después del análisis realizado, pudimos encontrar que los únicos valores ausentes están en la columna \"add_to_cart_order\". Sabemos igualmente que el valor mínimo de esta columna es 1 mientras que el valor máximo es de 64, lo cual no dice que el rango en esta columna es considerable."
   ]
  },
  {
   "cell_type": "code",
   "execution_count": 38,
   "id": "ab9d0c2b",
   "metadata": {
    "id": "ab9d0c2b"
   },
   "outputs": [
    {
     "name": "stdout",
     "output_type": "stream",
     "text": [
      "737        2449164\n",
      "9926       1968313\n",
      "14394      2926893\n",
      "16418      1717990\n",
      "30114      1959075\n",
      "            ...   \n",
      "4505662    1800005\n",
      "4511400    1633337\n",
      "4517562     404157\n",
      "4534112    1673227\n",
      "4535739    1832957\n",
      "Name: order_id, Length: 836, dtype: int64\n"
     ]
    }
   ],
   "source": [
    "# Guarda todas las IDs de pedidos que tengan un valor ausente en 'add_to_cart_order'\n",
    "\n",
    "# Guardamos los valores nulos de la columna en la variable \"orders_with_na\"\n",
    "orders_with_na = order_products[order_products['add_to_cart_order'].isna()]\n",
    "\n",
    "# Obtenemos los IDs de pedidos correspondientes\n",
    "add_to_cart_order = orders_with_na['order_id']\n",
    "\n",
    "print(add_to_cart_order)"
   ]
  },
  {
   "cell_type": "code",
   "execution_count": 39,
   "id": "54c31695",
   "metadata": {
    "id": "54c31695"
   },
   "outputs": [
    {
     "name": "stdout",
     "output_type": "stream",
     "text": [
      "Valor mínimo del conteo de productos en pedidos con valores ausentes: 1\n",
      "¿Todos los pedidos con valores ausentes tienen más de 64 productos? False\n"
     ]
    }
   ],
   "source": [
    "# ¿Todos los pedidos con valores ausentes tienen más de 64 productos?\n",
    "\n",
    "# Agrupa todos los pedidos con datos ausentes por su ID de pedido.\n",
    "product_counts = orders_with_na.groupby('order_id')['product_id'].count()\n",
    "\n",
    "# Cuenta el número de 'product_id' en cada pedido y revisa el valor mínimo del conteo.\n",
    "min_count = product_counts.min()\n",
    "\n",
    "# Verificar si todos los pedidos tienen más de 64 productos\n",
    "all_have_more_than_64 = min_count > 64\n",
    "\n",
    "print(\"Valor mínimo del conteo de productos en pedidos con valores ausentes:\", min_count)\n",
    "print(\"¿Todos los pedidos con valores ausentes tienen más de 64 productos?\", all_have_more_than_64)"
   ]
  },
  {
   "cell_type": "markdown",
   "id": "p9V6pddtjglj",
   "metadata": {
    "id": "p9V6pddtjglj"
   },
   "source": [
    "En esta etapa del proyecto, lo que hicimos fue reemplazar los valores nulos que tenía la columna \"add_to_cart_order\" por el order_id y así ver que order_id no tenía este campo lleno. Aunado a esto, igualmente contestamos a la pregunta de si ¿Todos los pedidos con valores ausentes tienen más de 64 productos? Para esto lo que encontramos fue que no, no todos los pedidos con valores austentes tenían más de 64 productos. Encontramos igualmente que le valor mínimo del conteo de productos en pedidos con valores ausentes era 1 producto. Esto nos corrobora lo que sacamos más arriba, donde el mínimo y máximo de la columna \"add_to_cart_order\" es 1 y 64 respectivamente.\n"
   ]
  },
  {
   "cell_type": "code",
   "execution_count": 40,
   "id": "7a987d08",
   "metadata": {
    "id": "7a987d08"
   },
   "outputs": [],
   "source": [
    "# Remplaza los valores ausentes en la columna 'add_to_cart\" con 999\n",
    "order_products['add_to_cart_order'] = order_products['add_to_cart_order'].fillna(999)\n",
    "\n",
    "# y convierte la columna al tipo entero.\n",
    "order_products['add_to_cart_order'] = order_products['add_to_cart_order'].astype(int)"
   ]
  },
  {
   "cell_type": "code",
   "execution_count": 41,
   "id": "682067c1",
   "metadata": {},
   "outputs": [
    {
     "name": "stdout",
     "output_type": "stream",
     "text": [
      "Tenemos 0 datos nulos después del cambio.\n",
      " \n",
      "<class 'pandas.core.frame.DataFrame'>\n",
      "Int64Index: 4545007 entries, 0 to 4545006\n",
      "Data columns (total 4 columns):\n",
      " #   Column             Dtype\n",
      "---  ------             -----\n",
      " 0   order_id           int64\n",
      " 1   product_id         int64\n",
      " 2   add_to_cart_order  int64\n",
      " 3   reordered          int64\n",
      "dtypes: int64(4)\n",
      "memory usage: 173.4 MB\n",
      "None\n"
     ]
    }
   ],
   "source": [
    "# Corroboramos ambos cambios\n",
    "order_products_na = order_products['add_to_cart_order'].isna().sum()\n",
    "print(f\"Tenemos {order_products_na} datos nulos después del cambio.\")\n",
    "print(\" \")\n",
    "print(order_products.info())"
   ]
  },
  {
   "cell_type": "markdown",
   "id": "fea4bcc7",
   "metadata": {
    "id": "fea4bcc7"
   },
   "source": [
    "Siguiendo con los datos nulos que se encontraron anteriormente en la columna \"add_to_cart_order\", lo que procedía era reemplazarlos con otro valor para ya no tener datos nulos. Se acordó que el dato a reemplazar los valores nulos fuera el 999, y así se hizo. Después se procedió a corroborar si ya no había datos nulos y en efecto fue así.\n",
    "Por otro lado, ya que se tenía cada elemento de esta columna en valor numérico (con el cambio de datos NaN a 999), se procedió a cambiar el tipo de dato de esa colmna a int64, debido a que todos sus elementos eran valores numéricos. En la parte de arriba se puede ver que este cambio se hizo de forma exitosa."
   ]
  },
  {
   "cell_type": "markdown",
   "id": "RnplPFY1gSrb",
   "metadata": {
    "id": "RnplPFY1gSrb"
   },
   "source": [
    "## Conclusiones\n",
    "\n",
    "La limpieza exhaustiva que hemos realizado previamente no solo mejora la calidad de nuestros datos, sino que también nos proporciona una base sólida para realizar análisis más profundos y tomar decisiones más informadas. Este proceso ha demostrado ser esencial para asegurar que nuestro trabajo futuro se base en datos fiables y representativos. Con estos datos limpios y bien gestionados, estamos mejor preparados para enfrentar nuevos desafíos y continuar avanzando con confianza en el proyecto.\n"
   ]
  },
  {
   "cell_type": "markdown",
   "id": "UjrOIwTcz3ri",
   "metadata": {
    "id": "UjrOIwTcz3ri"
   },
   "source": [
    "# Paso 3. Análisis de los datos\n",
    "\n",
    "Una vez los datos estén procesados y listos, haz el siguiente análisis:"
   ]
  },
  {
   "cell_type": "markdown",
   "id": "turkish-kidney",
   "metadata": {
    "id": "turkish-kidney"
   },
   "source": [
    "# [A] Fácil (deben completarse todos para aprobar)\n",
    "\n",
    "1. Verifica que los valores en las columnas `'order_hour_of_day'` y `'order_dow'` en la tabla orders sean razonables (es decir, `'order_hour_of_day'` oscile entre 0 y 23 y `'order_dow'` oscile entre 0 y 6).\n",
    "2. Crea un gráfico que muestre el número de personas que hacen pedidos dependiendo de la hora del día.\n",
    "3. Crea un gráfico que muestre qué día de la semana la gente hace sus compras.\n",
    "4. Crea un gráfico que muestre el tiempo que la gente espera hasta hacer su siguiente pedido, y comenta sobre los valores mínimos y máximos."
   ]
  },
  {
   "cell_type": "markdown",
   "id": "short-capability",
   "metadata": {
    "id": "short-capability"
   },
   "source": [
    "### [A1] Verifica que los valores sean sensibles"
   ]
  },
  {
   "cell_type": "code",
   "execution_count": 42,
   "id": "growing-fruit",
   "metadata": {
    "id": "growing-fruit"
   },
   "outputs": [],
   "source": [
    "orders_hour = orders['order_hour_of_day']\n",
    "orders_dow = orders['order_dow']"
   ]
  },
  {
   "cell_type": "code",
   "execution_count": 43,
   "id": "accessory-malaysia",
   "metadata": {
    "id": "accessory-malaysia"
   },
   "outputs": [
    {
     "name": "stdout",
     "output_type": "stream",
     "text": [
      "Valor mínimo de la columna 'order_hour_of_day':  0\n",
      "Valor máximo de la columna 'order_hour_of_day':  23\n",
      "Valor mínimo de la columna 'order_dow':  0\n",
      "Valor máximo de la columna 'order_dow':  6\n"
     ]
    }
   ],
   "source": [
    "print(\"Valor mínimo de la columna 'order_hour_of_day': \", orders_hour.min())\n",
    "print(\"Valor máximo de la columna 'order_hour_of_day': \", orders_hour.max())\n",
    "print(\"Valor mínimo de la columna 'order_dow': \", orders_dow.min())\n",
    "print(\"Valor máximo de la columna 'order_dow': \", orders_dow.max())"
   ]
  },
  {
   "cell_type": "markdown",
   "id": "hmR2GNQ6lCsX",
   "metadata": {
    "id": "hmR2GNQ6lCsX"
   },
   "source": [
    "Para poder determinar el rango de los valores en ambas columnas, tenía que encontrar el valor mínimo y máximo de cada columna. Para ello, guardé cada columna en una variable diferente y procedí a imprimir el valor mínimo y máximo de cada columna. Viendo los resultados, me pude dar cuenta que en efecto la columna \"order_hour_of_day\" oscila entre 0 y 23 mientras que la columna \"order_dow\" oscila entre 0 y 6."
   ]
  },
  {
   "cell_type": "markdown",
   "id": "a6743a70",
   "metadata": {
    "id": "a6743a70"
   },
   "source": [
    "### [A2] Para cada hora del día, ¿cuántas personas hacen órdenes?"
   ]
  },
  {
   "cell_type": "code",
   "execution_count": 44,
   "id": "a36cca27",
   "metadata": {
    "id": "a36cca27"
   },
   "outputs": [
    {
     "data": {
      "image/png": "[encoded data removed]",
      "text/plain": [
       "<Figure size 1000x600 with 1 Axes>"
      ]
     },
     "metadata": {},
     "output_type": "display_data"
    }
   ],
   "source": [
    "# Primero sumamos y ordenamos las ordenes por día\n",
    "ordenes_por_dia = orders['order_hour_of_day'].value_counts().sort_index()\n",
    "\n",
    "# Creamos el gráfico\n",
    "plt.figure(figsize=(10, 6))\n",
    "ordenes_por_dia.plot(kind='bar', color='skyblue')\n",
    "plt.title('Número de pedidos por hora del día')\n",
    "plt.xlabel('Hora del día')\n",
    "plt.ylabel('Número de pedidos')\n",
    "plt.xticks(rotation=0)  # Mantenemos las etiquetas del eje x horizontales\n",
    "plt.grid(axis='y', linestyle='--', alpha=0.7)\n",
    "\n",
    "# Mostramos el gráfico\n",
    "plt.show()"
   ]
  },
  {
   "cell_type": "markdown",
   "id": "11270eed",
   "metadata": {
    "id": "11270eed"
   },
   "source": [
    "Viendo el gráfico, podemos ver que el número de pedidos entre las 12am y 7am son menores, mientras que en las horas 9am a 4pm el número de pedidos aumenta considerablemente, superando los 35,000 pedidos por hora. Además, la tendencia baja aún entre las horas de 5pm a las 11pm con pedidos de entre 5,000 y 20,000 a la hora. Esto nos dice que la demanda del negocio se concentra principalmente entre las 9am y las 4pm."
   ]
  },
  {
   "cell_type": "markdown",
   "id": "documented-command",
   "metadata": {
    "id": "documented-command"
   },
   "source": [
    "### [A3] ¿Qué día de la semana compran víveres las personas?"
   ]
  },
  {
   "cell_type": "code",
   "execution_count": 45,
   "id": "chief-digit",
   "metadata": {
    "id": "chief-digit"
   },
   "outputs": [
    {
     "data": {
      "image/png": "[encoded data removed]",
      "text/plain": [
       "<Figure size 1000x600 with 1 Axes>"
      ]
     },
     "metadata": {},
     "output_type": "display_data"
    }
   ],
   "source": [
    "# Primero sumamos y ordenamos las ordenes por día de la semana\n",
    "ordenes_por_dia_semana = orders['order_dow'].value_counts().sort_index()\n",
    "\n",
    "# Creamos el gráfico\n",
    "plt.figure(figsize=(10, 6))\n",
    "ordenes_por_dia_semana.plot(kind='bar', color='skyblue')\n",
    "plt.title('Número de pedidos por día de la semana')\n",
    "plt.xlabel('Día de la semana')\n",
    "plt.ylabel('Número de pedidos')\n",
    "plt.xticks(rotation=0)  # Mantenemos las etiquetas del eje x horizontales\n",
    "plt.grid(axis='y', linestyle='--', alpha=0.7)\n",
    "\n",
    "# Mostramos el gráfico\n",
    "plt.show()"
   ]
  },
  {
   "cell_type": "markdown",
   "id": "dominant-lightning",
   "metadata": {
    "id": "dominant-lightning"
   },
   "source": [
    "Viendo el gráfico, podemos ver que el número de pedidos entre martes y sábado se mantiene practicamente igual, rondando los 60,000 pedidos por día. La alta demanda se ve reflejada especificamente en el día Domingo y Lunes, teniendo pedidos al día superiores a los 80,000. Esto nos dice que las personas realizan más pedidos esos días que el resto de la semana."
   ]
  },
  {
   "cell_type": "markdown",
   "id": "cutting-concert",
   "metadata": {
    "id": "cutting-concert"
   },
   "source": [
    "### [A4] ¿Cuánto tiempo esperan las personas hasta hacer otro pedido? Comenta sobre los valores mínimos y máximos."
   ]
  },
  {
   "cell_type": "code",
   "execution_count": 46,
   "id": "c231f523",
   "metadata": {
    "id": "c231f523"
   },
   "outputs": [
    {
     "data": {
      "image/png": "[encoded data removed]",
      "text/plain": [
       "<Figure size 1500x600 with 1 Axes>"
      ]
     },
     "metadata": {},
     "output_type": "display_data"
    }
   ],
   "source": [
    "# Primero sumamos y ordenamos los días desde su último pedido\n",
    "dias_desde_ultimo_pedido = orders['days_since_prior_order'].value_counts().sort_index()\n",
    "\n",
    "# Creamos el gráfico\n",
    "plt.figure(figsize=(15, 6))\n",
    "dias_desde_ultimo_pedido.plot(kind='bar', color='skyblue')\n",
    "plt.title('Número de días desde último pedido realizado')\n",
    "plt.xlabel('Número de días')\n",
    "plt.ylabel('Número de pedidos')\n",
    "plt.xticks(rotation=0)  # Mantenemos las etiquetas del eje x horizontales\n",
    "plt.grid(axis='y', linestyle='--', alpha=0.7)\n",
    "\n",
    "# Mostramos el gráfico\n",
    "plt.show()"
   ]
  },
  {
   "cell_type": "markdown",
   "id": "discrete-vertex",
   "metadata": {
    "id": "discrete-vertex"
   },
   "source": [
    "Viendo el gráfico, podemos ver que las personas tardan no más de 1 semana en hacer su siguiente pedido, esto debido a que las columnas entre los 0 y 7 días están de cierto modo saturadas de pedidos. Por otro lado y sorprendentemente, la mayor parte de las personas esperan alrededor de 1 mes (30 días) en volver a hacer su pedido en la empresa. Esto es verdaderamente impresionante porque entre los días 8 - 29 los clientes de verdad no hacen de nuevo sus pedidos, sino que se esperan al mes cumplido o lo hacen en los días siguientes a su último pedido. Esto no da a entender que hay gente que regularmente usa este servicio o que de plano solo lo piden una vez al mes."
   ]
  },
  {
   "cell_type": "markdown",
   "id": "tight-staff",
   "metadata": {
    "id": "tight-staff"
   },
   "source": [
    "# [B] Intermedio (deben completarse todos para aprobar)\n",
    "\n",
    "1. ¿Existe alguna diferencia entre las distribuciones `'order_hour_of_day'` de los miércoles y los sábados? Traza gráficos de barra de `'order_hour_of_day'` para ambos días en la misma figura y describe las diferencias que observes.\n",
    "2. Grafica la distribución para el número de órdenes que hacen los clientes (es decir, cuántos clientes hicieron solo 1 pedido, cuántos hicieron 2, cuántos 3, y así sucesivamente...).\n",
    "3. ¿Cuáles son los 20 principales productos que se piden con más frecuencia (muestra su identificación y nombre)?"
   ]
  },
  {
   "cell_type": "markdown",
   "id": "packed-classic",
   "metadata": {
    "id": "packed-classic"
   },
   "source": [
    "### [B1] Diferencia entre miércoles y sábados para  `'order_hour_of_day'`. Traza gráficos de barra para los dos días y describe las diferencias que veas."
   ]
  },
  {
   "cell_type": "code",
   "execution_count": 47,
   "id": "d89b8403",
   "metadata": {
    "id": "d89b8403"
   },
   "outputs": [],
   "source": [
    "# Primero filtramos los datos para miércoles y sábados\n",
    "ordenes_miercoles = orders[orders['order_dow'] == 3]\n",
    "ordenes_sabado = orders[orders['order_dow'] == 5]"
   ]
  },
  {
   "cell_type": "code",
   "execution_count": 48,
   "id": "94e54e8a",
   "metadata": {
    "id": "94e54e8a"
   },
   "outputs": [],
   "source": [
    "# Contamos los pedidos por hora del día para ambos días\n",
    "cuenta_ordenes_miercoles = ordenes_miercoles['order_hour_of_day'].value_counts().sort_index()\n",
    "cuenta_ordenes_sabado = ordenes_sabado['order_hour_of_day'].value_counts().sort_index()"
   ]
  },
  {
   "cell_type": "code",
   "execution_count": 49,
   "id": "797c90a8",
   "metadata": {
    "id": "797c90a8"
   },
   "outputs": [
    {
     "data": {
      "image/png": "[encoded data removed]",
      "text/plain": [
       "<Figure size 1000x600 with 1 Axes>"
      ]
     },
     "metadata": {},
     "output_type": "display_data"
    }
   ],
   "source": [
    "# Creamos los gráfico de barras para ambos días\n",
    "plt.figure(figsize=(10, 6))\n",
    "plt.bar(cuenta_ordenes_miercoles.index - 0.2, cuenta_ordenes_miercoles.values, width=0.4, label='Miércoles', color='skyblue')\n",
    "plt.bar(cuenta_ordenes_sabado.index + 0.2, cuenta_ordenes_sabado.values, width=0.4, label='Sábado', color='lightgreen')\n",
    "\n",
    "# Configurar el gráfico\n",
    "plt.title('Distribución de pedidos por hora del día: Miércoles vs Sábado')\n",
    "plt.xlabel('Hora del día')\n",
    "plt.ylabel('Número de pedidos')\n",
    "plt.xticks(range(24))\n",
    "plt.legend()\n",
    "plt.grid(axis='y', linestyle='--', alpha=0.7)\n",
    "\n",
    "# Mostramos el gráfico\n",
    "plt.show()"
   ]
  },
  {
   "cell_type": "markdown",
   "id": "charitable-congo",
   "metadata": {
    "id": "charitable-congo"
   },
   "source": [
    "Viendo la gráfica de arriba, podemos observar que las diferencias entre los pedidos en miércoles y sábado son practicamente iguales, de verdad solo hay diferencias mínimas entre el comportamiento de ambos días. Se tienen las mismas horas con mayor demanda y las mismas horas con menor demanda. Lo que si pude ver es que en general los pedidos en sábado son ligeramente superiores a los del miércoles, pero por lo mínimo."
   ]
  },
  {
   "cell_type": "markdown",
   "id": "e3891143",
   "metadata": {
    "id": "e3891143"
   },
   "source": [
    "### [B2] ¿Cuál es la distribución para el número de pedidos por cliente?"
   ]
  },
  {
   "cell_type": "code",
   "execution_count": 50,
   "id": "d8c26c23",
   "metadata": {
    "id": "d8c26c23"
   },
   "outputs": [],
   "source": [
    "# Grafica la distribución para el número de órdenes que hacen los clientes \n",
    "# (es decir, cuántos clientes hicieron solo 1 pedido, cuántos hicieron 2, cuántos 3, y así sucesivamente...).\n",
    "# Contar cuántos pedidos ha hecho cada cliente\n",
    "ordenes_por_cliente = orders['user_id'].value_counts()\n",
    "\n",
    "# Contar cuántos clientes han realizado 1 pedido, 2 pedidos, 3 pedidos, etc.\n",
    "distribucion_ordenes = ordenes_por_cliente.value_counts().sort_index()\n",
    "\n"
   ]
  },
  {
   "cell_type": "code",
   "execution_count": 51,
   "id": "00e69a66",
   "metadata": {
    "id": "00e69a66"
   },
   "outputs": [
    {
     "data": {
      "image/png": "[encoded data removed]",
      "text/plain": [
       "<Figure size 1000x600 with 1 Axes>"
      ]
     },
     "metadata": {},
     "output_type": "display_data"
    }
   ],
   "source": [
    "# Creamos el gráfico\n",
    "plt.figure(figsize=(10, 6))\n",
    "distribucion_ordenes.plot(kind='bar', color='skyblue')\n",
    "\n",
    "plt.title('Distribución del número de órdenes por cliente')\n",
    "plt.xlabel('Número de órdenes')\n",
    "plt.ylabel('Número de clientes')\n",
    "plt.xticks(rotation=0)\n",
    "plt.grid(axis='y', linestyle='--', alpha=0.7)\n",
    "\n",
    "# Mostramos el gráfico\n",
    "plt.show()"
   ]
  },
  {
   "cell_type": "markdown",
   "id": "d2eff7d5",
   "metadata": {
    "id": "d2eff7d5"
   },
   "source": [
    "Viendo el gráfico de arriba, pude notar una tendencia a la baja; es decir, mientras los número de pedidos aumentaban, menor cantidad de clientes hacían esa cantidad de pedidos. Como se puede ver, la gran parte de los clientes hicieron 1 0 2 pedidos, una menor cantidad de personas hicieron de 3 - 4 pedidos y ya de los 5 pedidos en adelante, menos de 10,000 e incluso menos de 1,00o0 personas hicieron esa cantidad de pedidos. En conclusión, los usuarios de esta empresa generalmente hacen de 1 - 4 pedidos, rara vez van a llegar a hacer 5+ pedidos."
   ]
  },
  {
   "cell_type": "markdown",
   "id": "54a0319c",
   "metadata": {
    "id": "54a0319c"
   },
   "source": [
    "### [B3] ¿Cuáles son los 20 productos más populares (muestra su ID y nombre)?"
   ]
  },
  {
   "cell_type": "code",
   "execution_count": 52,
   "id": "exterior-arizona",
   "metadata": {
    "id": "exterior-arizona",
    "scrolled": true
   },
   "outputs": [
    {
     "name": "stdout",
     "output_type": "stream",
     "text": [
      "       product_id              product_name  count\n",
      "22808       24852                    Banana  66050\n",
      "12025       13176    Bag of Organic Bananas  53297\n",
      "19370       21137      Organic Strawberries  37039\n",
      "20077       21903      Organic Baby Spinach  33971\n",
      "43271       47209      Organic Hass Avocado  29773\n",
      "43788       47766           Organic Avocado  24689\n",
      "43663       47626               Large Lemon  21495\n",
      "15364       16797              Strawberries  20018\n",
      "24047       26209                     Limes  19690\n",
      "25556       27845        Organic Whole Milk  19600\n",
      "25666       27966       Organic Raspberries  19197\n",
      "21025       22935      Organic Yellow Onion  15898\n",
      "22908       24964            Organic Garlic  15292\n",
      "41244       45007          Organic Zucchini  14584\n",
      "35996       39275       Organic Blueberries  13879\n",
      "45561       49683            Cucumber Kirby  13675\n",
      "25889       28204        Organic Fuji Apple  12544\n",
      "5375         5876             Organic Lemon  12232\n",
      "7543         8277  Apple Honeycrisp Organic  11993\n",
      "37301       40706    Organic Grape Tomatoes  11781\n"
     ]
    }
   ],
   "source": [
    "# Para poder hacer esto, primero debemos unir los DataFrames 'order_products' con 'products' usando 'product_id'\n",
    "df_unido = pd.merge(order_products, products, on='product_id')\n",
    "\n",
    "# Contamos cuántas veces se ha pedido cada producto\n",
    "cuenta_de_producto = df_unido.groupby(['product_id', 'product_name']).size().reset_index(name='count')\n",
    "\n",
    "# Ordenamos los productos por la cantidad de veces que se han pedido, en orden descendente\n",
    "top_20_productos = cuenta_de_producto.sort_values(by='count', ascending=False).head(20)\n",
    "\n",
    "# Mostramos los 20 principales productos\n",
    "print(top_20_productos)"
   ]
  },
  {
   "cell_type": "markdown",
   "id": "7df00f47",
   "metadata": {
    "id": "7df00f47"
   },
   "source": [
    "Viendo esta lista de los top 20 productos más vendidos, podemos ver que el producto estrella sin duda alguna son las bananas pereo algo curioso que puedo ver es que la mayor parte de estos productos son frutas y verduras. Esto nos dice que los usuarios están usando esta plataforma más que nada para pedir sus frutas y verduras. En este top 20 podemos ver frutas como bananas, fresas, manzanas. Algo importante de notar también es que la mayoría de los productos son orgánicos, lo que nos dice que además de que la gente compre frutas y verduras, estas personas igual están buscando frutas y verduras orgánicas, aspecto que puede ser útil para la empresa de saber y poder ir determinando su precio oferta/demanda."
   ]
  },
  {
   "cell_type": "markdown",
   "id": "gross-theme",
   "metadata": {
    "id": "gross-theme"
   },
   "source": [
    "# [C] Difícil (deben completarse todos para aprobar)\n",
    "\n",
    "1. ¿Cuántos artículos suelen comprar las personas en un pedido? ¿Cómo es la distribución?\n",
    "2. ¿Cuáles son los 20 principales artículos que vuelven a pedirse con mayor frecuencia (muestra sus nombres e IDs de los productos)?\n",
    "3. Para cada producto, ¿cuál es la tasa de repetición del pedido (número de repeticiones de pedido/total de pedidos?\n",
    "4. Para cada cliente, ¿qué proporción de los productos que pidió ya los había pedido? Calcula la tasa de repetición de pedido para cada usuario en lugar de para cada producto.\n",
    "5. ¿Cuáles son los 20 principales artículos que la gente pone primero en sus carritos (muestra las IDs de los productos, sus nombres, y el número de veces en que fueron el primer artículo en añadirse al carrito)?"
   ]
  },
  {
   "cell_type": "markdown",
   "id": "romantic-deposit",
   "metadata": {
    "id": "romantic-deposit"
   },
   "source": [
    "### [C1] ¿Cuántos artículos compran normalmente las personas en un pedido? ¿Cómo es la distribución?"
   ]
  },
  {
   "cell_type": "code",
   "execution_count": 53,
   "id": "virtual-punch",
   "metadata": {
    "id": "virtual-punch"
   },
   "outputs": [
    {
     "data": {
      "image/png": "[encoded data removed]",
      "text/plain": [
       "<Figure size 1000x600 with 1 Axes>"
      ]
     },
     "metadata": {},
     "output_type": "display_data"
    }
   ],
   "source": [
    "# Contamos cuántos productos hay en cada pedido\n",
    "productos_por_orden = order_products.groupby('order_id').size()\n",
    "\n",
    "# Graficamos la distribución\n",
    "plt.figure(figsize=(10, 6))\n",
    "plt.hist(productos_por_orden, bins=30, color='skyblue', edgecolor='black')\n",
    "\n",
    "plt.title('Distribución del número de artículos por pedido')\n",
    "plt.xlabel('Número de artículos por pedido')\n",
    "plt.ylabel('Frecuencia')\n",
    "\n",
    "# Mostramos el gráfico\n",
    "plt.show()"
   ]
  },
  {
   "cell_type": "markdown",
   "id": "designed-mortality",
   "metadata": {
    "id": "designed-mortality"
   },
   "source": [
    "Como podemos ver en el gráfico, el número de artículos por pedido definitivamente ronda entre los 1 - 5 artículos y ya con menor cantidad pero aún así una considerable, esta el rango entre los 6 - 20 artículos por pedido. Ya por arriba de los 20 artículos la verdad es que no existe cuenta significativa y más que nada se puede resumir a que hay 0 o cercano a 0 pedidos con más de 20 artículos. Este comportamiento le puede ser de utilidad a la empresa para determinar los artpiculos por pedido promedio y hacer alguna estrategia de marketing en cuanto a esto."
   ]
  },
  {
   "cell_type": "markdown",
   "id": "5e6b5537",
   "metadata": {
    "id": "5e6b5537"
   },
   "source": [
    "### [C2] ¿Cuáles son los 20 principales artículos que vuelven a pedirse con mayor frecuencia (muestra sus nombres e IDs de los productos)?"
   ]
  },
  {
   "cell_type": "code",
   "execution_count": 54,
   "id": "9374e55a",
   "metadata": {
    "id": "9374e55a"
   },
   "outputs": [
    {
     "name": "stdout",
     "output_type": "stream",
     "text": [
      "    product_id              product_name  count\n",
      "0         5876             Organic Lemon   8412\n",
      "1         8277  Apple Honeycrisp Organic   8836\n",
      "2        13176    Bag of Organic Bananas  44450\n",
      "3        16797              Strawberries  13945\n",
      "4        21137      Organic Strawberries  28639\n",
      "5        21903      Organic Baby Spinach  26233\n",
      "6        22935      Organic Yellow Onion  11145\n",
      "7        24852                    Banana  55763\n",
      "8        24964            Organic Garlic  10411\n",
      "9        26209                     Limes  13327\n",
      "10       27845        Organic Whole Milk  16251\n",
      "11       27966       Organic Raspberries  14748\n",
      "12       28204        Organic Fuji Apple   8989\n",
      "13       39275       Organic Blueberries   8799\n",
      "14       45007          Organic Zucchini  10076\n",
      "15       47209      Organic Hass Avocado  23629\n",
      "16       47626               Large Lemon  15044\n",
      "17       47766           Organic Avocado  18743\n",
      "18       49235       Organic Half & Half   8389\n",
      "19       49683            Cucumber Kirby   9538\n"
     ]
    }
   ],
   "source": [
    "# Primero filtramos solo los productos que han sido reordenados\n",
    "productos_reordenados = order_products[order_products['reordered'] == 1]\n",
    "\n",
    "# Contamos cuántas veces se ha reordenado cada producto\n",
    "cuenta_de_reordenes = productos_reordenados.groupby('product_id').size().reset_index(name='count')\n",
    "\n",
    "# Ordenamos por la cantidad de reordenes, en orden descendente\n",
    "cuenta_de_reordenes = cuenta_de_reordenes.sort_values(by='count', ascending=False)\n",
    "\n",
    "# Unimos con el DataFrame 'product' para obtener los nombres de los productos\n",
    "top_productos_reordenados = pd.merge(products[['product_id', 'product_name']], cuenta_de_reordenes.head(20), on='product_id')\n",
    "\n",
    "# Mostramos los 20 principales productos que más se vuelven a pedir\n",
    "print(top_productos_reordenados)"
   ]
  },
  {
   "cell_type": "markdown",
   "id": "80e70c74",
   "metadata": {
    "id": "80e70c74"
   },
   "source": [
    "A pesar de que las bananas y las fresas fueran los productos más demandados en el análisis anterior, en este análisis podemos ver que el limón orgánico y la manzana orgánica fueron los productos que más veces volvieron a pedir. Este análisis de los productos con mas reorden va en concordancia con los productos más vendidos, ya que en este análisis igualmente podemos ver que los productos mas reordenados son las frutas y verduras."
   ]
  },
  {
   "cell_type": "markdown",
   "id": "9d312b14",
   "metadata": {
    "id": "9d312b14"
   },
   "source": [
    "### [C3] Para cada producto, ¿cuál es la proporción de las veces que se pide y que se vuelve a pedir?"
   ]
  },
  {
   "cell_type": "code",
   "execution_count": 55,
   "id": "8ae9f4b1",
   "metadata": {
    "id": "8ae9f4b1"
   },
   "outputs": [
    {
     "name": "stdout",
     "output_type": "stream",
     "text": [
      "       product_id                                       product_name  \\\n",
      "0               1                         Chocolate Sandwich Cookies   \n",
      "1               2                                   All-Seasons Salt   \n",
      "2               3               Robust Golden Unsweetened Oolong Tea   \n",
      "3               4  Smart Ones Classic Favorites Mini Rigatoni Wit...   \n",
      "4               7                     Pure Coconut Water With Orange   \n",
      "...           ...                                                ...   \n",
      "45568       49690                      HIGH PERFORMANCE ENERGY DRINK   \n",
      "45569       49691                      ORIGINAL PANCAKE & WAFFLE MIX   \n",
      "45570       49692    ORGANIC INSTANT OATMEAL LIGHT MAPLE BROWN SUGAR   \n",
      "45571       49693                             SPRING WATER BODY WASH   \n",
      "45572       49694                            BURRITO- STEAK & CHEESE   \n",
      "\n",
      "       total_orders  reordered_count  reorder_ratio  \n",
      "0               280            158.0       0.564286  \n",
      "1                11              0.0       0.000000  \n",
      "2                42             31.0       0.738095  \n",
      "3                49             25.0       0.510204  \n",
      "4                 2              1.0       0.500000  \n",
      "...             ...              ...            ...  \n",
      "45568             5              4.0       0.800000  \n",
      "45569            72             31.0       0.430556  \n",
      "45570            12              5.0       0.416667  \n",
      "45571            25             11.0       0.440000  \n",
      "45572             9              3.0       0.333333  \n",
      "\n",
      "[45573 rows x 5 columns]\n"
     ]
    }
   ],
   "source": [
    "# Contamos el número total de veces que cada producto se ha pedido\n",
    "total_ordenes = order_products.groupby('product_id').size().reset_index(name='total_orders')\n",
    "\n",
    "# Contamos el número de veces que cada producto ha sido reordenado\n",
    "ordenes_reordenadas = order_products[order_products['reordered'] == 1].groupby('product_id').size().reset_index(name='reordered_count')\n",
    "\n",
    "# Unimos los datos de total de pedidos y reordenes en un solo DataFrame\n",
    "productos_reordenados = pd.merge(total_ordenes, ordenes_reordenadas, on='product_id', how='left')\n",
    "\n",
    "# Reemplazamos valores NaN en 'reordered_count' con 0 (para los productos que no han sido reordenados)\n",
    "productos_reordenados['reordered_count'].fillna(0, inplace=True)\n",
    "\n",
    "# Calculamos la proporción de reordenes\n",
    "productos_reordenados['reorder_ratio'] = productos_reordenados['reordered_count'] / productos_reordenados['total_orders']\n",
    "\n",
    "# Unimos con el DataFrame 'product' para obtener los nombres de los productos\n",
    "datos_productos = pd.merge(productos_reordenados, products[['product_id', 'product_name']], on='product_id')\n",
    "\n",
    "# Mostramos los resultados\n",
    "print(datos_productos[['product_id', 'product_name', 'total_orders', 'reordered_count', 'reorder_ratio']])"
   ]
  },
  {
   "cell_type": "markdown",
   "id": "I10dEIAyldcO",
   "metadata": {
    "id": "I10dEIAyldcO"
   },
   "source": [
    "Para saber cuál es la proporción de las veces que se pide y que se vuelve a pedir un producto, tuve que sacar las ordenes totales por producto, asi como el valor de las reordenes igual de cada producto. Ya con esto, una variable clave que decidí incluir es el ratio de reorden de cada producto, que te muestra que tanto se re ordena ese producto. Esta variable se sacó dividiendo la cuenta de reordenes entre el total de pedidos y por ejemplo el producto \"HIGH PERFORMANCE ENERGY DRINK\" tuvo un 80% de reorden a comparación por ejemplo del \"BURRITO- STEAK & CHEESE\", que solo tuvo el 33% de reorden. Estos datos se mostraron para cada producto y la verdad es un análisis muy completo que la empreasa debe tener en cuenta para determinar sus productos estrella y sus productos no tan demandados."
   ]
  },
  {
   "cell_type": "markdown",
   "id": "subject-boxing",
   "metadata": {
    "id": "subject-boxing"
   },
   "source": [
    "### [C4] Para cada cliente, ¿qué proporción de sus productos ya los había pedido?"
   ]
  },
  {
   "cell_type": "code",
   "execution_count": 56,
   "id": "medical-couple",
   "metadata": {
    "id": "medical-couple",
    "scrolled": true
   },
   "outputs": [
    {
     "name": "stdout",
     "output_type": "stream",
     "text": [
      "        user_id  total_products  reordered_products  reorder_ratio\n",
      "0             2              26                 1.0       0.038462\n",
      "1             4               2                 0.0       0.000000\n",
      "2             5              12                 8.0       0.666667\n",
      "3             6               4                 0.0       0.000000\n",
      "4             7              14                13.0       0.928571\n",
      "...         ...             ...                 ...            ...\n",
      "149621   206203              27                 6.0       0.222222\n",
      "149622   206206              21                15.0       0.714286\n",
      "149623   206207              46                41.0       0.891304\n",
      "149624   206208             125                87.0       0.696000\n",
      "149625   206209              25                 8.0       0.320000\n",
      "\n",
      "[149626 rows x 4 columns]\n"
     ]
    }
   ],
   "source": [
    "# Primero unimos order_products con orders para tener acceso al 'user_id'\n",
    "ordenes = pd.merge(order_products, orders[['order_id', 'user_id']], on='order_id')\n",
    "\n",
    "# Contamos el total de productos que ha pedido cada cliente\n",
    "productos_usuarios = ordenes.groupby('user_id').size().reset_index(name='total_products')\n",
    "\n",
    "# Contamos cuántos de esos productos ya habían sido pedidos anteriormente\n",
    "productos_reordenados = ordenes[ordenes['reordered'] == 1].groupby('user_id').size().reset_index(name='reordered_products')\n",
    "\n",
    "# Unimos ambas cuentas (total productos y reordenados) en un solo DataFrame\n",
    "reorden_productos = pd.merge(productos_usuarios, productos_reordenados, on='user_id', how='left')\n",
    "\n",
    "# Reemplazamos los valores NaN en  con 0\n",
    "reorden_productos['reordered_products'].fillna(0, inplace=True)\n",
    "\n",
    "# Por último calculamos la proporción de productos reordenados respecto al total de productos\n",
    "reorden_productos['reorder_ratio'] = reorden_productos['reordered_products'] / reorden_productos['total_products']\n",
    "\n",
    "# Mostramos los resultados\n",
    "print(reorden_productos[['user_id', 'total_products', 'reordered_products', 'reorder_ratio']])"
   ]
  },
  {
   "cell_type": "markdown",
   "id": "BgJSvXDsleXz",
   "metadata": {
    "id": "BgJSvXDsleXz"
   },
   "source": [
    "Para cada cliente, determiné el total de productos que ha pedido, cuántos de esos productos ya había comprado anteriormente (reordenados) y la proporción de productos reordenados respecto al total.\n",
    "Si la proporción es alta (por ejemplo, del 80%), significa que la mayoría de los productos que el cliente compra son productos que ya ha comprado antes, lo que indica un alto grado de recurrencia en sus compras.\n",
    "Este análisis es útil para entender la lealtad de los clientes hacia ciertos productos."
   ]
  },
  {
   "cell_type": "markdown",
   "id": "92d35137",
   "metadata": {
    "id": "92d35137"
   },
   "source": [
    "### [C5] ¿Cuáles son los 20 principales artículos que las personas ponen primero en sus carritos?"
   ]
  },
  {
   "cell_type": "code",
   "execution_count": 57,
   "id": "0ae57274",
   "metadata": {
    "id": "0ae57274",
    "scrolled": true
   },
   "outputs": [
    {
     "name": "stdout",
     "output_type": "stream",
     "text": [
      "    product_id                 product_name  count\n",
      "0        24852                       Banana  15562\n",
      "1        13176       Bag of Organic Bananas  11026\n",
      "2        27845           Organic Whole Milk   4363\n",
      "3        21137         Organic Strawberries   3946\n",
      "4        47209         Organic Hass Avocado   3390\n",
      "5        21903         Organic Baby Spinach   3336\n",
      "6        47766              Organic Avocado   3044\n",
      "7        19660                 Spring Water   2336\n",
      "8        16797                 Strawberries   2308\n",
      "9        27966          Organic Raspberries   2024\n",
      "10       44632   Sparkling Water Grapefruit   1914\n",
      "11       49235          Organic Half & Half   1797\n",
      "12       47626                  Large Lemon   1737\n",
      "13         196                         Soda   1733\n",
      "14       38689     Organic Reduced Fat Milk   1397\n",
      "15       26209                        Limes   1370\n",
      "16       12341                Hass Avocados   1340\n",
      "17        5785  Organic Reduced Fat 2% Milk   1310\n",
      "18       27086                  Half & Half   1309\n",
      "19       22935         Organic Yellow Onion   1246\n"
     ]
    }
   ],
   "source": [
    "# Primero filtramos los productos que se agregaron primero al carrito\n",
    "productos = order_products[order_products['add_to_cart_order'] == 1]\n",
    "\n",
    "# Contamos la frecuencia de cada 'product_id'\n",
    "top_productos = productos['product_id'].value_counts().reset_index()\n",
    "top_productos.columns = ['product_id', 'count']\n",
    "\n",
    "# Unimos con el DataFrame 'products' para obtener los nombres de los productos\n",
    "top_first_added = pd.merge(top_productos, products[['product_id', 'product_name']], on='product_id', how='left')\n",
    "\n",
    "# Mostramos los 20 principales productos que las personas suelen agregar primero al carrito\n",
    "top_20_productos = top_first_added.head(20)\n",
    "print(top_20_productos[['product_id', 'product_name', 'count']])"
   ]
  },
  {
   "cell_type": "markdown",
   "id": "28ce9872",
   "metadata": {
    "id": "28ce9872"
   },
   "source": [
    "Este análisis te muestra los productos más frecuentes que las personas agregan primero en sus carritos. Si ciertos productos como \"Banana\" o \"Bag of Organic Bananas\" aparecen con mucha frecuencia, podría sugerir que estos son productos esenciales o populares que los usuarios suelen comprar en cada pedido."
   ]
  },
  {
   "cell_type": "markdown",
   "id": "uITbFCEoDosC",
   "metadata": {
    "id": "uITbFCEoDosC"
   },
   "source": [
    "### Conclusion general del proyecto:"
   ]
  },
  {
   "cell_type": "markdown",
   "id": "618ca0ac",
   "metadata": {
    "id": "Nk-4GS7mDwqY"
   },
   "source": [
    "En este proyecto, hemos trabajado con cinco archivos de datos cruciales para comprender los patrones de compra de los clientes. La descripción exhaustiva de estos datos nos permitió identificar la estructura y el contenido de cada archivo, lo que facilitó el proceso de preprocesamiento. La limpieza de datos, que incluyó la eliminación de duplicados y el tratamiento de valores ausentes, es fundamental para garantizar la precisión y fiabilidad de los análisis. Al eliminar datos redundantes y corregir valores faltantes, aseguramos que nuestras conclusiones se basaran en información completa y precisa. Posteriormente, el análisis de los datos, a través de la generación de gráficos y tablas, nos proporcionó insights valiosos sobre el comportamiento de compra, como los productos más populares y los patrones de reordenamiento. Estos resultados no solo ayudan a entender mejor las preferencias de los clientes, sino que también ofrecen al dueño de los datos herramientas prácticas para tomar decisiones informadas y optimizar las estrategias de venta. "
   ]
  }
 ],
 "metadata": {
  "ExecuteTimeLog": [
   {
    "duration": 2141,
    "start_time": "2024-09-16T22:07:04.896Z"
   },
   {
    "duration": 295,
    "start_time": "2024-09-16T22:08:05.878Z"
   },
   {
    "duration": 8,
    "start_time": "2024-09-16T22:08:28.352Z"
   },
   {
    "duration": 126,
    "start_time": "2024-09-16T22:08:33.719Z"
   },
   {
    "duration": 976,
    "start_time": "2024-09-16T22:10:06.845Z"
   },
   {
    "duration": 13,
    "start_time": "2024-09-16T22:11:50.947Z"
   },
   {
    "duration": 12,
    "start_time": "2024-09-16T22:12:20.337Z"
   },
   {
    "duration": 9,
    "start_time": "2024-09-16T22:12:21.349Z"
   },
   {
    "duration": 9,
    "start_time": "2024-09-16T22:12:22.278Z"
   },
   {
    "duration": 8,
    "start_time": "2024-09-16T22:12:22.991Z"
   },
   {
    "duration": 78,
    "start_time": "2024-09-16T22:30:14.894Z"
   },
   {
    "duration": 71,
    "start_time": "2024-09-16T22:30:34.031Z"
   },
   {
    "duration": 86,
    "start_time": "2024-09-16T22:30:59.494Z"
   },
   {
    "duration": 91,
    "start_time": "2024-09-16T22:31:59.687Z"
   },
   {
    "duration": 73,
    "start_time": "2024-09-16T22:32:06.160Z"
   },
   {
    "duration": 104,
    "start_time": "2024-09-16T22:33:29.947Z"
   },
   {
    "duration": 117,
    "start_time": "2024-09-16T22:42:26.537Z"
   },
   {
    "duration": 11,
    "start_time": "2024-09-16T22:42:57.383Z"
   },
   {
    "duration": 7,
    "start_time": "2024-09-16T22:44:56.709Z"
   },
   {
    "duration": 76,
    "start_time": "2024-09-16T22:49:09.680Z"
   },
   {
    "duration": 83,
    "start_time": "2024-09-16T22:49:22.011Z"
   },
   {
    "duration": 85,
    "start_time": "2024-09-16T22:49:32.623Z"
   },
   {
    "duration": 90,
    "start_time": "2024-09-16T22:49:52.359Z"
   },
   {
    "duration": 28,
    "start_time": "2024-09-16T22:51:08.548Z"
   },
   {
    "duration": 39,
    "start_time": "2024-09-16T22:51:36.669Z"
   },
   {
    "duration": 396,
    "start_time": "2024-09-16T22:58:41.522Z"
   },
   {
    "duration": 923,
    "start_time": "2024-09-16T22:58:41.920Z"
   },
   {
    "duration": 14,
    "start_time": "2024-09-16T22:58:42.845Z"
   },
   {
    "duration": 10,
    "start_time": "2024-09-16T22:58:42.862Z"
   },
   {
    "duration": 8,
    "start_time": "2024-09-16T22:58:42.874Z"
   },
   {
    "duration": 8,
    "start_time": "2024-09-16T22:58:42.884Z"
   },
   {
    "duration": 8,
    "start_time": "2024-09-16T22:58:42.894Z"
   },
   {
    "duration": 133,
    "start_time": "2024-09-16T22:58:42.904Z"
   },
   {
    "duration": 101,
    "start_time": "2024-09-16T22:58:43.042Z"
   },
   {
    "duration": 8,
    "start_time": "2024-09-16T22:58:43.147Z"
   },
   {
    "duration": 119,
    "start_time": "2024-09-16T22:58:43.156Z"
   },
   {
    "duration": 99,
    "start_time": "2024-09-16T22:58:43.277Z"
   },
   {
    "duration": 101,
    "start_time": "2024-09-16T22:58:43.378Z"
   },
   {
    "duration": 65,
    "start_time": "2024-09-16T22:58:43.481Z"
   },
   {
    "duration": 2,
    "start_time": "2024-09-16T22:58:43.548Z"
   },
   {
    "duration": 2,
    "start_time": "2024-09-16T22:58:43.552Z"
   },
   {
    "duration": 3,
    "start_time": "2024-09-16T22:58:43.555Z"
   },
   {
    "duration": 2,
    "start_time": "2024-09-16T22:58:43.560Z"
   },
   {
    "duration": 2,
    "start_time": "2024-09-16T22:58:43.564Z"
   },
   {
    "duration": 2,
    "start_time": "2024-09-16T22:58:43.568Z"
   },
   {
    "duration": 3,
    "start_time": "2024-09-16T22:58:43.572Z"
   },
   {
    "duration": 3,
    "start_time": "2024-09-16T22:58:43.576Z"
   },
   {
    "duration": 3,
    "start_time": "2024-09-16T22:58:43.580Z"
   },
   {
    "duration": 2,
    "start_time": "2024-09-16T22:58:43.585Z"
   },
   {
    "duration": 54,
    "start_time": "2024-09-16T22:58:43.589Z"
   },
   {
    "duration": 2,
    "start_time": "2024-09-16T22:58:43.645Z"
   },
   {
    "duration": 2,
    "start_time": "2024-09-16T22:58:43.649Z"
   },
   {
    "duration": 2,
    "start_time": "2024-09-16T22:58:43.655Z"
   },
   {
    "duration": 3,
    "start_time": "2024-09-16T22:58:43.659Z"
   },
   {
    "duration": 2,
    "start_time": "2024-09-16T22:58:43.664Z"
   },
   {
    "duration": 2,
    "start_time": "2024-09-16T22:58:43.668Z"
   },
   {
    "duration": 3,
    "start_time": "2024-09-16T22:58:43.671Z"
   },
   {
    "duration": 2,
    "start_time": "2024-09-16T22:58:43.676Z"
   },
   {
    "duration": 3,
    "start_time": "2024-09-16T22:58:43.679Z"
   },
   {
    "duration": 3,
    "start_time": "2024-09-16T22:58:43.683Z"
   },
   {
    "duration": 3,
    "start_time": "2024-09-16T22:58:43.687Z"
   },
   {
    "duration": 14,
    "start_time": "2024-09-16T22:59:09.655Z"
   },
   {
    "duration": 5,
    "start_time": "2024-09-16T23:02:40.159Z"
   },
   {
    "duration": 4,
    "start_time": "2024-09-16T23:04:18.680Z"
   },
   {
    "duration": 15,
    "start_time": "2024-09-16T23:05:18.098Z"
   },
   {
    "duration": 18,
    "start_time": "2024-09-16T23:06:09.425Z"
   },
   {
    "duration": 19,
    "start_time": "2024-09-16T23:07:43.442Z"
   },
   {
    "duration": 18,
    "start_time": "2024-09-16T23:07:51.197Z"
   },
   {
    "duration": 17,
    "start_time": "2024-09-16T23:08:08.962Z"
   },
   {
    "duration": 29,
    "start_time": "2024-09-16T23:08:25.506Z"
   },
   {
    "duration": 324,
    "start_time": "2024-09-16T23:11:37.209Z"
   },
   {
    "duration": 19,
    "start_time": "2024-09-16T23:11:49.246Z"
   },
   {
    "duration": 3,
    "start_time": "2024-09-16T23:18:15.033Z"
   },
   {
    "duration": 5,
    "start_time": "2024-09-16T23:20:20.751Z"
   },
   {
    "duration": 2,
    "start_time": "2024-09-16T23:21:16.343Z"
   },
   {
    "duration": 3,
    "start_time": "2024-09-16T23:21:21.673Z"
   },
   {
    "duration": 5,
    "start_time": "2024-09-16T23:26:00.673Z"
   },
   {
    "duration": 3,
    "start_time": "2024-09-16T23:26:53.482Z"
   },
   {
    "duration": 769,
    "start_time": "2024-09-16T23:29:03.347Z"
   },
   {
    "duration": 111,
    "start_time": "2024-09-16T23:30:11.589Z"
   },
   {
    "duration": 867,
    "start_time": "2024-09-16T23:33:08.997Z"
   },
   {
    "duration": 103,
    "start_time": "2024-09-16T23:33:13.955Z"
   },
   {
    "duration": 858,
    "start_time": "2024-09-16T23:33:14.769Z"
   },
   {
    "duration": 828,
    "start_time": "2024-09-16T23:36:06.852Z"
   },
   {
    "duration": 870,
    "start_time": "2024-09-16T23:36:49.942Z"
   },
   {
    "duration": 105,
    "start_time": "2024-09-16T23:37:06.217Z"
   },
   {
    "duration": 110,
    "start_time": "2024-09-16T23:37:09.367Z"
   },
   {
    "duration": 882,
    "start_time": "2024-09-16T23:37:10.182Z"
   },
   {
    "duration": 139,
    "start_time": "2024-09-16T23:37:11.211Z"
   },
   {
    "duration": 6,
    "start_time": "2024-09-16T23:43:19.933Z"
   },
   {
    "duration": 5,
    "start_time": "2024-09-16T23:43:32.375Z"
   },
   {
    "duration": 258,
    "start_time": "2024-09-16T23:47:50.070Z"
   },
   {
    "duration": 7,
    "start_time": "2024-09-16T23:48:02.519Z"
   },
   {
    "duration": 7,
    "start_time": "2024-09-16T23:52:16.347Z"
   },
   {
    "duration": 18,
    "start_time": "2024-09-16T23:55:07.369Z"
   },
   {
    "duration": 10,
    "start_time": "2024-09-16T23:55:16.617Z"
   },
   {
    "duration": 10,
    "start_time": "2024-09-16T23:55:28.609Z"
   },
   {
    "duration": 10,
    "start_time": "2024-09-16T23:55:34.570Z"
   },
   {
    "duration": 10,
    "start_time": "2024-09-16T23:56:12.482Z"
   },
   {
    "duration": 12,
    "start_time": "2024-09-17T00:00:11.676Z"
   },
   {
    "duration": 10,
    "start_time": "2024-09-17T00:00:54.184Z"
   },
   {
    "duration": 6,
    "start_time": "2024-09-17T00:01:17.351Z"
   },
   {
    "duration": 6,
    "start_time": "2024-09-17T00:01:34.130Z"
   },
   {
    "duration": 452,
    "start_time": "2024-09-17T00:01:48.675Z"
   },
   {
    "duration": 911,
    "start_time": "2024-09-17T00:01:49.129Z"
   },
   {
    "duration": 14,
    "start_time": "2024-09-17T00:01:50.042Z"
   },
   {
    "duration": 11,
    "start_time": "2024-09-17T00:01:50.058Z"
   },
   {
    "duration": 8,
    "start_time": "2024-09-17T00:01:50.072Z"
   },
   {
    "duration": 8,
    "start_time": "2024-09-17T00:01:50.082Z"
   },
   {
    "duration": 7,
    "start_time": "2024-09-17T00:01:50.092Z"
   },
   {
    "duration": 127,
    "start_time": "2024-09-17T00:01:50.101Z"
   },
   {
    "duration": 105,
    "start_time": "2024-09-17T00:01:50.230Z"
   },
   {
    "duration": 13,
    "start_time": "2024-09-17T00:01:50.337Z"
   },
   {
    "duration": 118,
    "start_time": "2024-09-17T00:01:50.354Z"
   },
   {
    "duration": 101,
    "start_time": "2024-09-17T00:01:50.474Z"
   },
   {
    "duration": 97,
    "start_time": "2024-09-17T00:01:50.577Z"
   },
   {
    "duration": 43,
    "start_time": "2024-09-17T00:01:50.678Z"
   },
   {
    "duration": 25,
    "start_time": "2024-09-17T00:01:50.723Z"
   },
   {
    "duration": 5,
    "start_time": "2024-09-17T00:01:50.750Z"
   },
   {
    "duration": 20,
    "start_time": "2024-09-17T00:01:50.756Z"
   },
   {
    "duration": 15,
    "start_time": "2024-09-17T00:01:50.778Z"
   },
   {
    "duration": 3,
    "start_time": "2024-09-17T00:01:50.794Z"
   },
   {
    "duration": 4,
    "start_time": "2024-09-17T00:01:50.799Z"
   },
   {
    "duration": 39,
    "start_time": "2024-09-17T00:01:50.804Z"
   },
   {
    "duration": 4,
    "start_time": "2024-09-17T00:01:50.845Z"
   },
   {
    "duration": 785,
    "start_time": "2024-09-17T00:01:50.851Z"
   },
   {
    "duration": 118,
    "start_time": "2024-09-17T00:01:51.637Z"
   },
   {
    "duration": 838,
    "start_time": "2024-09-17T00:01:51.758Z"
   },
   {
    "duration": 118,
    "start_time": "2024-09-17T00:01:52.598Z"
   },
   {
    "duration": 6,
    "start_time": "2024-09-17T00:01:52.718Z"
   },
   {
    "duration": 18,
    "start_time": "2024-09-17T00:01:52.726Z"
   },
   {
    "duration": 6,
    "start_time": "2024-09-17T00:01:52.746Z"
   },
   {
    "duration": 9,
    "start_time": "2024-09-17T00:01:52.753Z"
   },
   {
    "duration": 5,
    "start_time": "2024-09-17T00:01:52.763Z"
   },
   {
    "duration": 2,
    "start_time": "2024-09-17T00:01:52.770Z"
   },
   {
    "duration": 2,
    "start_time": "2024-09-17T00:01:52.774Z"
   },
   {
    "duration": 3,
    "start_time": "2024-09-17T00:01:52.777Z"
   },
   {
    "duration": 2,
    "start_time": "2024-09-17T00:01:52.781Z"
   },
   {
    "duration": 3,
    "start_time": "2024-09-17T00:01:52.785Z"
   },
   {
    "duration": 3,
    "start_time": "2024-09-17T00:01:52.789Z"
   },
   {
    "duration": 50,
    "start_time": "2024-09-17T00:01:52.793Z"
   },
   {
    "duration": 8,
    "start_time": "2024-09-17T00:02:14.062Z"
   },
   {
    "duration": 7,
    "start_time": "2024-09-17T00:02:27.465Z"
   },
   {
    "duration": 8,
    "start_time": "2024-09-17T00:02:31.586Z"
   },
   {
    "duration": 5,
    "start_time": "2024-09-17T00:02:32.197Z"
   },
   {
    "duration": 11,
    "start_time": "2024-09-17T00:02:58.734Z"
   },
   {
    "duration": 5,
    "start_time": "2024-09-17T00:03:02.934Z"
   },
   {
    "duration": 2331,
    "start_time": "2024-09-17T00:05:56.950Z"
   },
   {
    "duration": 2329,
    "start_time": "2024-09-17T00:06:04.418Z"
   },
   {
    "duration": 3,
    "start_time": "2024-09-17T00:07:43.629Z"
   },
   {
    "duration": 17,
    "start_time": "2024-09-17T00:07:47.448Z"
   },
   {
    "duration": 6,
    "start_time": "2024-09-17T00:10:48.840Z"
   },
   {
    "duration": 15,
    "start_time": "2024-09-17T00:14:02.694Z"
   },
   {
    "duration": 471,
    "start_time": "2024-09-17T00:15:10.939Z"
   },
   {
    "duration": 181,
    "start_time": "2024-09-17T00:26:50.037Z"
   },
   {
    "duration": 395,
    "start_time": "2024-09-17T00:26:59.345Z"
   },
   {
    "duration": 6,
    "start_time": "2024-09-17T00:27:16.054Z"
   },
   {
    "duration": 8,
    "start_time": "2024-09-17T00:27:26.202Z"
   },
   {
    "duration": 43,
    "start_time": "2024-09-17T00:28:45.704Z"
   },
   {
    "duration": 7,
    "start_time": "2024-09-17T00:28:55.980Z"
   },
   {
    "duration": 162,
    "start_time": "2024-09-17T00:31:11.282Z"
   },
   {
    "duration": 5,
    "start_time": "2024-09-17T00:31:19.586Z"
   },
   {
    "duration": 5,
    "start_time": "2024-09-17T00:31:32.067Z"
   },
   {
    "duration": 5,
    "start_time": "2024-09-17T00:32:32.463Z"
   },
   {
    "duration": 35,
    "start_time": "2024-09-17T00:38:03.082Z"
   },
   {
    "duration": 28,
    "start_time": "2024-09-17T00:38:30.787Z"
   },
   {
    "duration": 17,
    "start_time": "2024-09-17T00:39:41.525Z"
   },
   {
    "duration": 16,
    "start_time": "2024-09-17T00:40:05.981Z"
   },
   {
    "duration": 15,
    "start_time": "2024-09-17T00:40:11.325Z"
   },
   {
    "duration": 10,
    "start_time": "2024-09-17T00:40:49.398Z"
   },
   {
    "duration": 9,
    "start_time": "2024-09-17T00:41:32.270Z"
   },
   {
    "duration": 10,
    "start_time": "2024-09-17T00:43:05.488Z"
   },
   {
    "duration": 10,
    "start_time": "2024-09-17T00:43:11.262Z"
   },
   {
    "duration": 10,
    "start_time": "2024-09-17T00:43:19.401Z"
   },
   {
    "duration": 160,
    "start_time": "2024-09-19T00:35:20.782Z"
   },
   {
    "duration": 2196,
    "start_time": "2024-09-19T00:35:39.575Z"
   },
   {
    "duration": 1068,
    "start_time": "2024-09-19T00:35:41.773Z"
   },
   {
    "duration": 14,
    "start_time": "2024-09-19T00:35:42.843Z"
   },
   {
    "duration": 11,
    "start_time": "2024-09-19T00:35:42.859Z"
   },
   {
    "duration": 8,
    "start_time": "2024-09-19T00:35:42.871Z"
   },
   {
    "duration": 31,
    "start_time": "2024-09-19T00:35:42.881Z"
   },
   {
    "duration": 8,
    "start_time": "2024-09-19T00:35:42.913Z"
   },
   {
    "duration": 107,
    "start_time": "2024-09-19T00:35:42.923Z"
   },
   {
    "duration": 107,
    "start_time": "2024-09-19T00:35:43.032Z"
   },
   {
    "duration": 7,
    "start_time": "2024-09-19T00:35:43.142Z"
   },
   {
    "duration": 118,
    "start_time": "2024-09-19T00:35:43.151Z"
   },
   {
    "duration": 95,
    "start_time": "2024-09-19T00:35:43.271Z"
   },
   {
    "duration": 105,
    "start_time": "2024-09-19T00:35:43.369Z"
   },
   {
    "duration": 55,
    "start_time": "2024-09-19T00:35:43.476Z"
   },
   {
    "duration": 12,
    "start_time": "2024-09-19T00:35:43.533Z"
   },
   {
    "duration": 4,
    "start_time": "2024-09-19T00:35:43.547Z"
   },
   {
    "duration": 19,
    "start_time": "2024-09-19T00:35:43.553Z"
   },
   {
    "duration": 47,
    "start_time": "2024-09-19T00:35:43.573Z"
   },
   {
    "duration": 4,
    "start_time": "2024-09-19T00:35:43.622Z"
   },
   {
    "duration": 4,
    "start_time": "2024-09-19T00:35:43.628Z"
   },
   {
    "duration": 4,
    "start_time": "2024-09-19T00:35:43.634Z"
   },
   {
    "duration": 3,
    "start_time": "2024-09-19T00:35:43.640Z"
   },
   {
    "duration": 807,
    "start_time": "2024-09-19T00:35:43.645Z"
   },
   {
    "duration": 134,
    "start_time": "2024-09-19T00:35:44.454Z"
   },
   {
    "duration": 873,
    "start_time": "2024-09-19T00:35:44.589Z"
   },
   {
    "duration": 153,
    "start_time": "2024-09-19T00:35:45.464Z"
   },
   {
    "duration": 5,
    "start_time": "2024-09-19T00:35:45.619Z"
   },
   {
    "duration": 6,
    "start_time": "2024-09-19T00:35:45.628Z"
   },
   {
    "duration": 6,
    "start_time": "2024-09-19T00:35:45.636Z"
   },
   {
    "duration": 9,
    "start_time": "2024-09-19T00:35:45.644Z"
   },
   {
    "duration": 7,
    "start_time": "2024-09-19T00:35:45.655Z"
   },
   {
    "duration": 52,
    "start_time": "2024-09-19T00:35:45.665Z"
   },
   {
    "duration": 6,
    "start_time": "2024-09-19T00:35:45.718Z"
   },
   {
    "duration": 2,
    "start_time": "2024-09-19T00:35:45.726Z"
   },
   {
    "duration": 15,
    "start_time": "2024-09-19T00:35:45.729Z"
   },
   {
    "duration": 485,
    "start_time": "2024-09-19T00:35:45.746Z"
   },
   {
    "duration": 8,
    "start_time": "2024-09-19T00:35:46.233Z"
   },
   {
    "duration": 5,
    "start_time": "2024-09-19T00:35:46.242Z"
   },
   {
    "duration": 36,
    "start_time": "2024-09-19T00:35:46.248Z"
   },
   {
    "duration": 11,
    "start_time": "2024-09-19T00:35:46.312Z"
   },
   {
    "duration": 4,
    "start_time": "2024-09-19T00:35:46.324Z"
   },
   {
    "duration": 3,
    "start_time": "2024-09-19T00:35:57.481Z"
   },
   {
    "duration": 5,
    "start_time": "2024-09-19T00:36:10.814Z"
   },
   {
    "duration": 5,
    "start_time": "2024-09-19T00:36:26.668Z"
   },
   {
    "duration": 5,
    "start_time": "2024-09-19T00:37:25.724Z"
   },
   {
    "duration": 6,
    "start_time": "2024-09-19T00:37:39.960Z"
   },
   {
    "duration": 209,
    "start_time": "2024-09-19T00:42:00.759Z"
   },
   {
    "duration": 195,
    "start_time": "2024-09-19T00:43:03.553Z"
   },
   {
    "duration": 6,
    "start_time": "2024-09-19T00:46:55.471Z"
   },
   {
    "duration": 134,
    "start_time": "2024-09-19T00:47:03.049Z"
   },
   {
    "duration": 132,
    "start_time": "2024-09-19T00:48:01.229Z"
   },
   {
    "duration": 6,
    "start_time": "2024-09-19T00:52:29.191Z"
   },
   {
    "duration": 210,
    "start_time": "2024-09-19T00:52:35.885Z"
   },
   {
    "duration": 269,
    "start_time": "2024-09-19T00:53:02.466Z"
   },
   {
    "duration": 230,
    "start_time": "2024-09-19T00:54:32.807Z"
   },
   {
    "duration": 234,
    "start_time": "2024-09-19T01:02:00.898Z"
   },
   {
    "duration": 187,
    "start_time": "2024-09-19T01:02:27.766Z"
   },
   {
    "duration": 235,
    "start_time": "2024-09-19T01:02:37.017Z"
   },
   {
    "duration": 232,
    "start_time": "2024-09-19T01:03:14.285Z"
   },
   {
    "duration": 8,
    "start_time": "2024-09-19T01:04:03.114Z"
   },
   {
    "duration": 6,
    "start_time": "2024-09-19T01:04:03.829Z"
   },
   {
    "duration": 296,
    "start_time": "2024-09-19T01:04:04.431Z"
   },
   {
    "duration": 15,
    "start_time": "2024-09-19T01:08:58.360Z"
   },
   {
    "duration": 193,
    "start_time": "2024-09-19T01:09:07.014Z"
   },
   {
    "duration": 51,
    "start_time": "2024-09-19T01:15:56.172Z"
   },
   {
    "duration": 196,
    "start_time": "2024-09-19T01:23:05.846Z"
   },
   {
    "duration": 1112,
    "start_time": "2024-09-19T01:23:17.657Z"
   },
   {
    "duration": 1102,
    "start_time": "2024-09-19T01:24:08.185Z"
   },
   {
    "duration": 396,
    "start_time": "2024-09-19T01:28:57.883Z"
   },
   {
    "duration": 397,
    "start_time": "2024-09-19T01:29:03.923Z"
   },
   {
    "duration": 410,
    "start_time": "2024-09-19T01:29:48.022Z"
   },
   {
    "duration": 964,
    "start_time": "2024-09-19T01:29:59.977Z"
   },
   {
    "duration": 402,
    "start_time": "2024-09-19T01:30:12.971Z"
   },
   {
    "duration": 405,
    "start_time": "2024-09-19T01:30:31.381Z"
   },
   {
    "duration": 174,
    "start_time": "2024-09-19T01:36:14.351Z"
   },
   {
    "duration": 116,
    "start_time": "2024-09-19T01:36:20.982Z"
   },
   {
    "duration": 96,
    "start_time": "2024-09-19T01:37:56.002Z"
   },
   {
    "duration": 97,
    "start_time": "2024-09-19T01:39:13.774Z"
   },
   {
    "duration": 167,
    "start_time": "2024-09-19T01:47:21.835Z"
   },
   {
    "duration": 215,
    "start_time": "2024-09-19T01:47:26.266Z"
   },
   {
    "duration": 197,
    "start_time": "2024-09-19T01:48:10.194Z"
   },
   {
    "duration": 193,
    "start_time": "2024-09-19T01:49:47.307Z"
   },
   {
    "duration": 153,
    "start_time": "2024-09-19T01:50:06.041Z"
   },
   {
    "duration": 14,
    "start_time": "2024-09-19T01:50:13.315Z"
   },
   {
    "duration": 8,
    "start_time": "2024-09-19T01:50:15.403Z"
   },
   {
    "duration": 171,
    "start_time": "2024-09-19T01:51:15.592Z"
   },
   {
    "duration": 810,
    "start_time": "2024-09-19T01:58:20.240Z"
   },
   {
    "duration": 889,
    "start_time": "2024-09-19T02:00:50.482Z"
   },
   {
    "duration": 871,
    "start_time": "2024-09-19T02:03:00.222Z"
   },
   {
    "duration": 42,
    "start_time": "2024-09-19T02:06:47.019Z"
   },
   {
    "duration": 41,
    "start_time": "2024-09-19T02:07:46.474Z"
   },
   {
    "duration": 168,
    "start_time": "2024-09-24T01:00:57.083Z"
   },
   {
    "duration": 2154,
    "start_time": "2024-09-24T01:01:03.016Z"
   },
   {
    "duration": 1032,
    "start_time": "2024-09-24T01:01:05.173Z"
   },
   {
    "duration": 14,
    "start_time": "2024-09-24T01:01:06.207Z"
   },
   {
    "duration": 11,
    "start_time": "2024-09-24T01:01:06.223Z"
   },
   {
    "duration": 9,
    "start_time": "2024-09-24T01:01:06.235Z"
   },
   {
    "duration": 31,
    "start_time": "2024-09-24T01:01:06.246Z"
   },
   {
    "duration": 8,
    "start_time": "2024-09-24T01:01:06.278Z"
   },
   {
    "duration": 115,
    "start_time": "2024-09-24T01:01:06.287Z"
   },
   {
    "duration": 105,
    "start_time": "2024-09-24T01:01:06.404Z"
   },
   {
    "duration": 7,
    "start_time": "2024-09-24T01:01:06.512Z"
   },
   {
    "duration": 126,
    "start_time": "2024-09-24T01:01:06.521Z"
   },
   {
    "duration": 97,
    "start_time": "2024-09-24T01:01:06.648Z"
   },
   {
    "duration": 98,
    "start_time": "2024-09-24T01:01:06.747Z"
   },
   {
    "duration": 59,
    "start_time": "2024-09-24T01:01:06.846Z"
   },
   {
    "duration": 11,
    "start_time": "2024-09-24T01:01:06.907Z"
   },
   {
    "duration": 5,
    "start_time": "2024-09-24T01:01:06.920Z"
   },
   {
    "duration": 19,
    "start_time": "2024-09-24T01:01:06.926Z"
   },
   {
    "duration": 39,
    "start_time": "2024-09-24T01:01:06.947Z"
   },
   {
    "duration": 7,
    "start_time": "2024-09-24T01:01:06.988Z"
   },
   {
    "duration": 4,
    "start_time": "2024-09-24T01:01:06.997Z"
   },
   {
    "duration": 4,
    "start_time": "2024-09-24T01:01:07.003Z"
   },
   {
    "duration": 3,
    "start_time": "2024-09-24T01:01:07.009Z"
   },
   {
    "duration": 3,
    "start_time": "2024-09-24T01:01:07.014Z"
   },
   {
    "duration": 859,
    "start_time": "2024-09-24T01:01:07.019Z"
   },
   {
    "duration": 118,
    "start_time": "2024-09-24T01:01:07.880Z"
   },
   {
    "duration": 834,
    "start_time": "2024-09-24T01:01:08.000Z"
   },
   {
    "duration": 114,
    "start_time": "2024-09-24T01:01:08.836Z"
   },
   {
    "duration": 4,
    "start_time": "2024-09-24T01:01:08.954Z"
   },
   {
    "duration": 6,
    "start_time": "2024-09-24T01:01:08.970Z"
   },
   {
    "duration": 6,
    "start_time": "2024-09-24T01:01:08.977Z"
   },
   {
    "duration": 9,
    "start_time": "2024-09-24T01:01:08.985Z"
   },
   {
    "duration": 7,
    "start_time": "2024-09-24T01:01:08.995Z"
   },
   {
    "duration": 15,
    "start_time": "2024-09-24T01:01:09.004Z"
   },
   {
    "duration": 6,
    "start_time": "2024-09-24T01:01:09.020Z"
   },
   {
    "duration": 2,
    "start_time": "2024-09-24T01:01:09.027Z"
   },
   {
    "duration": 15,
    "start_time": "2024-09-24T01:01:09.071Z"
   },
   {
    "duration": 461,
    "start_time": "2024-09-24T01:01:09.088Z"
   },
   {
    "duration": 8,
    "start_time": "2024-09-24T01:01:09.551Z"
   },
   {
    "duration": 13,
    "start_time": "2024-09-24T01:01:09.560Z"
   },
   {
    "duration": 34,
    "start_time": "2024-09-24T01:01:09.575Z"
   },
   {
    "duration": 10,
    "start_time": "2024-09-24T01:01:09.611Z"
   },
   {
    "duration": 2,
    "start_time": "2024-09-24T01:01:09.623Z"
   },
   {
    "duration": 4,
    "start_time": "2024-09-24T01:01:09.627Z"
   },
   {
    "duration": 245,
    "start_time": "2024-09-24T01:01:09.633Z"
   },
   {
    "duration": 170,
    "start_time": "2024-09-24T01:01:09.881Z"
   },
   {
    "duration": 234,
    "start_time": "2024-09-24T01:01:10.053Z"
   },
   {
    "duration": 10,
    "start_time": "2024-09-24T01:01:10.289Z"
   },
   {
    "duration": 5,
    "start_time": "2024-09-24T01:01:10.300Z"
   },
   {
    "duration": 278,
    "start_time": "2024-09-24T01:01:10.306Z"
   },
   {
    "duration": 17,
    "start_time": "2024-09-24T01:01:10.586Z"
   },
   {
    "duration": 211,
    "start_time": "2024-09-24T01:01:10.604Z"
   },
   {
    "duration": 1153,
    "start_time": "2024-09-24T01:01:10.817Z"
   },
   {
    "duration": 393,
    "start_time": "2024-09-24T01:01:11.972Z"
   },
   {
    "duration": 361,
    "start_time": "2024-09-24T01:01:12.371Z"
   },
   {
    "duration": 1,
    "start_time": "2024-09-24T01:01:12.733Z"
   },
   {
    "duration": 0,
    "start_time": "2024-09-24T01:01:12.735Z"
   },
   {
    "duration": 0,
    "start_time": "2024-09-24T01:01:12.736Z"
   },
   {
    "duration": 55,
    "start_time": "2024-09-24T01:08:33.845Z"
   },
   {
    "duration": 463,
    "start_time": "2024-09-24T01:08:46.329Z"
   },
   {
    "duration": 962,
    "start_time": "2024-09-24T01:08:46.794Z"
   },
   {
    "duration": 14,
    "start_time": "2024-09-24T01:08:47.758Z"
   },
   {
    "duration": 10,
    "start_time": "2024-09-24T01:08:47.775Z"
   },
   {
    "duration": 9,
    "start_time": "2024-09-24T01:08:47.787Z"
   },
   {
    "duration": 9,
    "start_time": "2024-09-24T01:08:47.797Z"
   },
   {
    "duration": 8,
    "start_time": "2024-09-24T01:08:47.807Z"
   },
   {
    "duration": 131,
    "start_time": "2024-09-24T01:08:47.817Z"
   },
   {
    "duration": 107,
    "start_time": "2024-09-24T01:08:47.949Z"
   },
   {
    "duration": 11,
    "start_time": "2024-09-24T01:08:48.059Z"
   },
   {
    "duration": 118,
    "start_time": "2024-09-24T01:08:48.072Z"
   },
   {
    "duration": 93,
    "start_time": "2024-09-24T01:08:48.192Z"
   },
   {
    "duration": 103,
    "start_time": "2024-09-24T01:08:48.287Z"
   },
   {
    "duration": 47,
    "start_time": "2024-09-24T01:08:48.392Z"
   },
   {
    "duration": 12,
    "start_time": "2024-09-24T01:08:48.440Z"
   },
   {
    "duration": 4,
    "start_time": "2024-09-24T01:08:48.470Z"
   },
   {
    "duration": 19,
    "start_time": "2024-09-24T01:08:48.475Z"
   },
   {
    "duration": 7,
    "start_time": "2024-09-24T01:08:48.496Z"
   },
   {
    "duration": 4,
    "start_time": "2024-09-24T01:08:48.505Z"
   },
   {
    "duration": 3,
    "start_time": "2024-09-24T01:08:48.510Z"
   },
   {
    "duration": 3,
    "start_time": "2024-09-24T01:08:48.515Z"
   },
   {
    "duration": 3,
    "start_time": "2024-09-24T01:08:48.520Z"
   },
   {
    "duration": 826,
    "start_time": "2024-09-24T01:08:48.525Z"
   },
   {
    "duration": 128,
    "start_time": "2024-09-24T01:08:49.352Z"
   },
   {
    "duration": 868,
    "start_time": "2024-09-24T01:08:49.482Z"
   },
   {
    "duration": 109,
    "start_time": "2024-09-24T01:08:50.351Z"
   },
   {
    "duration": 9,
    "start_time": "2024-09-24T01:08:50.462Z"
   },
   {
    "duration": 6,
    "start_time": "2024-09-24T01:08:50.475Z"
   },
   {
    "duration": 7,
    "start_time": "2024-09-24T01:08:50.483Z"
   },
   {
    "duration": 9,
    "start_time": "2024-09-24T01:08:50.491Z"
   },
   {
    "duration": 7,
    "start_time": "2024-09-24T01:08:50.502Z"
   },
   {
    "duration": 15,
    "start_time": "2024-09-24T01:08:50.511Z"
   },
   {
    "duration": 43,
    "start_time": "2024-09-24T01:08:50.527Z"
   },
   {
    "duration": 2,
    "start_time": "2024-09-24T01:08:50.572Z"
   },
   {
    "duration": 16,
    "start_time": "2024-09-24T01:08:50.575Z"
   },
   {
    "duration": 452,
    "start_time": "2024-09-24T01:08:50.592Z"
   },
   {
    "duration": 7,
    "start_time": "2024-09-24T01:08:51.046Z"
   },
   {
    "duration": 4,
    "start_time": "2024-09-24T01:08:51.055Z"
   },
   {
    "duration": 37,
    "start_time": "2024-09-24T01:08:51.071Z"
   },
   {
    "duration": 9,
    "start_time": "2024-09-24T01:08:51.110Z"
   },
   {
    "duration": 2,
    "start_time": "2024-09-24T01:08:51.121Z"
   },
   {
    "duration": 4,
    "start_time": "2024-09-24T01:08:51.125Z"
   },
   {
    "duration": 233,
    "start_time": "2024-09-24T01:08:51.131Z"
   },
   {
    "duration": 144,
    "start_time": "2024-09-24T01:08:51.370Z"
   },
   {
    "duration": 257,
    "start_time": "2024-09-24T01:08:51.516Z"
   },
   {
    "duration": 8,
    "start_time": "2024-09-24T01:08:51.775Z"
   },
   {
    "duration": 5,
    "start_time": "2024-09-24T01:08:51.785Z"
   },
   {
    "duration": 258,
    "start_time": "2024-09-24T01:08:51.792Z"
   },
   {
    "duration": 24,
    "start_time": "2024-09-24T01:08:52.052Z"
   },
   {
    "duration": 202,
    "start_time": "2024-09-24T01:08:52.078Z"
   },
   {
    "duration": 1135,
    "start_time": "2024-09-24T01:08:52.282Z"
   },
   {
    "duration": 402,
    "start_time": "2024-09-24T01:08:53.419Z"
   },
   {
    "duration": 410,
    "start_time": "2024-09-24T01:08:53.823Z"
   },
   {
    "duration": 0,
    "start_time": "2024-09-24T01:08:54.235Z"
   },
   {
    "duration": 0,
    "start_time": "2024-09-24T01:08:54.236Z"
   },
   {
    "duration": 0,
    "start_time": "2024-09-24T01:08:54.237Z"
   },
   {
    "duration": 120,
    "start_time": "2024-09-24T01:09:19.686Z"
   },
   {
    "duration": 196,
    "start_time": "2024-09-24T01:09:23.053Z"
   },
   {
    "duration": 872,
    "start_time": "2024-09-24T01:09:24.754Z"
   },
   {
    "duration": 42,
    "start_time": "2024-09-24T01:09:26.414Z"
   },
   {
    "duration": 162,
    "start_time": "2024-09-25T01:07:57.376Z"
   },
   {
    "duration": 2123,
    "start_time": "2024-09-25T01:08:03.894Z"
   },
   {
    "duration": 1100,
    "start_time": "2024-09-25T01:08:06.020Z"
   },
   {
    "duration": 15,
    "start_time": "2024-09-25T01:08:07.122Z"
   },
   {
    "duration": 11,
    "start_time": "2024-09-25T01:08:07.140Z"
   },
   {
    "duration": 9,
    "start_time": "2024-09-25T01:08:07.152Z"
   },
   {
    "duration": 9,
    "start_time": "2024-09-25T01:08:07.163Z"
   },
   {
    "duration": 36,
    "start_time": "2024-09-25T01:08:07.174Z"
   },
   {
    "duration": 108,
    "start_time": "2024-09-25T01:08:07.213Z"
   },
   {
    "duration": 107,
    "start_time": "2024-09-25T01:08:07.323Z"
   },
   {
    "duration": 8,
    "start_time": "2024-09-25T01:08:07.434Z"
   },
   {
    "duration": 115,
    "start_time": "2024-09-25T01:08:07.443Z"
   },
   {
    "duration": 91,
    "start_time": "2024-09-25T01:08:07.559Z"
   },
   {
    "duration": 96,
    "start_time": "2024-09-25T01:08:07.652Z"
   },
   {
    "duration": 56,
    "start_time": "2024-09-25T01:08:07.750Z"
   },
   {
    "duration": 13,
    "start_time": "2024-09-25T01:08:07.808Z"
   },
   {
    "duration": 4,
    "start_time": "2024-09-25T01:08:07.822Z"
   },
   {
    "duration": 19,
    "start_time": "2024-09-25T01:08:07.828Z"
   },
   {
    "duration": 8,
    "start_time": "2024-09-25T01:08:07.849Z"
   },
   {
    "duration": 4,
    "start_time": "2024-09-25T01:08:07.858Z"
   },
   {
    "duration": 3,
    "start_time": "2024-09-25T01:08:07.864Z"
   },
   {
    "duration": 4,
    "start_time": "2024-09-25T01:08:07.906Z"
   },
   {
    "duration": 3,
    "start_time": "2024-09-25T01:08:07.912Z"
   },
   {
    "duration": 800,
    "start_time": "2024-09-25T01:08:07.917Z"
   },
   {
    "duration": 118,
    "start_time": "2024-09-25T01:08:08.718Z"
   },
   {
    "duration": 873,
    "start_time": "2024-09-25T01:08:08.838Z"
   },
   {
    "duration": 115,
    "start_time": "2024-09-25T01:08:09.713Z"
   },
   {
    "duration": 4,
    "start_time": "2024-09-25T01:08:09.830Z"
   },
   {
    "duration": 6,
    "start_time": "2024-09-25T01:08:09.839Z"
   },
   {
    "duration": 6,
    "start_time": "2024-09-25T01:08:09.846Z"
   },
   {
    "duration": 10,
    "start_time": "2024-09-25T01:08:09.854Z"
   },
   {
    "duration": 40,
    "start_time": "2024-09-25T01:08:09.865Z"
   },
   {
    "duration": 17,
    "start_time": "2024-09-25T01:08:09.907Z"
   },
   {
    "duration": 7,
    "start_time": "2024-09-25T01:08:09.925Z"
   },
   {
    "duration": 2,
    "start_time": "2024-09-25T01:08:09.933Z"
   },
   {
    "duration": 16,
    "start_time": "2024-09-25T01:08:09.937Z"
   },
   {
    "duration": 487,
    "start_time": "2024-09-25T01:08:09.955Z"
   },
   {
    "duration": 9,
    "start_time": "2024-09-25T01:08:10.444Z"
   },
   {
    "duration": 4,
    "start_time": "2024-09-25T01:08:10.455Z"
   },
   {
    "duration": 54,
    "start_time": "2024-09-25T01:08:10.461Z"
   },
   {
    "duration": 11,
    "start_time": "2024-09-25T01:08:10.517Z"
   },
   {
    "duration": 2,
    "start_time": "2024-09-25T01:08:10.530Z"
   },
   {
    "duration": 5,
    "start_time": "2024-09-25T01:08:10.534Z"
   },
   {
    "duration": 235,
    "start_time": "2024-09-25T01:08:10.541Z"
   },
   {
    "duration": 143,
    "start_time": "2024-09-25T01:08:10.777Z"
   },
   {
    "duration": 270,
    "start_time": "2024-09-25T01:08:10.922Z"
   },
   {
    "duration": 17,
    "start_time": "2024-09-25T01:08:11.194Z"
   },
   {
    "duration": 5,
    "start_time": "2024-09-25T01:08:11.213Z"
   },
   {
    "duration": 246,
    "start_time": "2024-09-25T01:08:11.220Z"
   },
   {
    "duration": 15,
    "start_time": "2024-09-25T01:08:11.468Z"
   },
   {
    "duration": 217,
    "start_time": "2024-09-25T01:08:11.485Z"
   },
   {
    "duration": 1156,
    "start_time": "2024-09-25T01:08:11.704Z"
   },
   {
    "duration": 430,
    "start_time": "2024-09-25T01:08:12.862Z"
   },
   {
    "duration": 179,
    "start_time": "2024-09-25T01:08:13.294Z"
   },
   {
    "duration": 255,
    "start_time": "2024-09-25T01:08:13.475Z"
   },
   {
    "duration": 1092,
    "start_time": "2024-09-25T01:08:13.731Z"
   },
   {
    "duration": 0,
    "start_time": "2024-09-25T01:08:14.825Z"
   },
   {
    "duration": 3,
    "start_time": "2024-09-25T01:10:27.093Z"
   },
   {
    "duration": 24,
    "start_time": "2024-09-25T01:16:44.320Z"
   },
   {
    "duration": 24,
    "start_time": "2024-09-25T01:17:30.899Z"
   },
   {
    "duration": 2098,
    "start_time": "2024-09-26T00:28:34.712Z"
   },
   {
    "duration": 1079,
    "start_time": "2024-09-26T00:28:36.812Z"
   },
   {
    "duration": 14,
    "start_time": "2024-09-26T00:28:37.893Z"
   },
   {
    "duration": 22,
    "start_time": "2024-09-26T00:28:37.909Z"
   },
   {
    "duration": 12,
    "start_time": "2024-09-26T00:28:37.933Z"
   },
   {
    "duration": 9,
    "start_time": "2024-09-26T00:28:37.946Z"
   },
   {
    "duration": 7,
    "start_time": "2024-09-26T00:28:37.957Z"
   },
   {
    "duration": 123,
    "start_time": "2024-09-26T00:28:37.966Z"
   },
   {
    "duration": 111,
    "start_time": "2024-09-26T00:28:38.091Z"
   },
   {
    "duration": 8,
    "start_time": "2024-09-26T00:28:38.206Z"
   },
   {
    "duration": 124,
    "start_time": "2024-09-26T00:28:38.218Z"
   },
   {
    "duration": 99,
    "start_time": "2024-09-26T00:28:38.344Z"
   },
   {
    "duration": 98,
    "start_time": "2024-09-26T00:28:38.445Z"
   },
   {
    "duration": 50,
    "start_time": "2024-09-26T00:28:38.544Z"
   },
   {
    "duration": 12,
    "start_time": "2024-09-26T00:28:38.595Z"
   },
   {
    "duration": 23,
    "start_time": "2024-09-26T00:28:38.609Z"
   },
   {
    "duration": 19,
    "start_time": "2024-09-26T00:28:38.633Z"
   },
   {
    "duration": 21,
    "start_time": "2024-09-26T00:28:38.654Z"
   },
   {
    "duration": 7,
    "start_time": "2024-09-26T00:28:38.677Z"
   },
   {
    "duration": 4,
    "start_time": "2024-09-26T00:28:38.686Z"
   },
   {
    "duration": 3,
    "start_time": "2024-09-26T00:28:38.692Z"
   },
   {
    "duration": 3,
    "start_time": "2024-09-26T00:28:38.732Z"
   },
   {
    "duration": 3,
    "start_time": "2024-09-26T00:28:38.737Z"
   },
   {
    "duration": 777,
    "start_time": "2024-09-26T00:28:38.741Z"
   },
   {
    "duration": 118,
    "start_time": "2024-09-26T00:28:39.519Z"
   },
   {
    "duration": 835,
    "start_time": "2024-09-26T00:28:39.638Z"
   },
   {
    "duration": 110,
    "start_time": "2024-09-26T00:28:40.474Z"
   },
   {
    "duration": 5,
    "start_time": "2024-09-26T00:28:40.589Z"
   },
   {
    "duration": 7,
    "start_time": "2024-09-26T00:28:40.596Z"
   },
   {
    "duration": 25,
    "start_time": "2024-09-26T00:28:40.605Z"
   },
   {
    "duration": 10,
    "start_time": "2024-09-26T00:28:40.632Z"
   },
   {
    "duration": 7,
    "start_time": "2024-09-26T00:28:40.644Z"
   },
   {
    "duration": 14,
    "start_time": "2024-09-26T00:28:40.653Z"
   },
   {
    "duration": 5,
    "start_time": "2024-09-26T00:28:40.668Z"
   },
   {
    "duration": 2,
    "start_time": "2024-09-26T00:28:40.675Z"
   },
   {
    "duration": 16,
    "start_time": "2024-09-26T00:28:40.678Z"
   },
   {
    "duration": 464,
    "start_time": "2024-09-26T00:28:40.696Z"
   },
   {
    "duration": 8,
    "start_time": "2024-09-26T00:28:41.162Z"
   },
   {
    "duration": 5,
    "start_time": "2024-09-26T00:28:41.172Z"
   },
   {
    "duration": 56,
    "start_time": "2024-09-26T00:28:41.179Z"
   },
   {
    "duration": 11,
    "start_time": "2024-09-26T00:28:41.236Z"
   },
   {
    "duration": 3,
    "start_time": "2024-09-26T00:28:41.248Z"
   },
   {
    "duration": 4,
    "start_time": "2024-09-26T00:28:41.253Z"
   },
   {
    "duration": 230,
    "start_time": "2024-09-26T00:28:41.258Z"
   },
   {
    "duration": 148,
    "start_time": "2024-09-26T00:28:41.490Z"
   },
   {
    "duration": 266,
    "start_time": "2024-09-26T00:28:41.640Z"
   },
   {
    "duration": 9,
    "start_time": "2024-09-26T00:28:41.908Z"
   },
   {
    "duration": 13,
    "start_time": "2024-09-26T00:28:41.919Z"
   },
   {
    "duration": 243,
    "start_time": "2024-09-26T00:28:41.934Z"
   },
   {
    "duration": 15,
    "start_time": "2024-09-26T00:28:42.179Z"
   },
   {
    "duration": 209,
    "start_time": "2024-09-26T00:28:42.196Z"
   },
   {
    "duration": 1285,
    "start_time": "2024-09-26T00:28:42.407Z"
   },
   {
    "duration": 385,
    "start_time": "2024-09-26T00:28:43.693Z"
   },
   {
    "duration": 176,
    "start_time": "2024-09-26T00:28:44.080Z"
   },
   {
    "duration": 240,
    "start_time": "2024-09-26T00:28:44.258Z"
   },
   {
    "duration": 1043,
    "start_time": "2024-09-26T00:28:44.501Z"
   },
   {
    "duration": 0,
    "start_time": "2024-09-26T00:28:45.545Z"
   },
   {
    "duration": 849,
    "start_time": "2024-09-26T00:33:00.664Z"
   },
   {
    "duration": 901,
    "start_time": "2024-09-26T00:33:06.748Z"
   },
   {
    "duration": 384,
    "start_time": "2024-09-26T17:00:23.159Z"
   },
   {
    "duration": 902,
    "start_time": "2024-09-26T17:00:23.545Z"
   },
   {
    "duration": 22,
    "start_time": "2024-09-26T17:00:24.449Z"
   },
   {
    "duration": 11,
    "start_time": "2024-09-26T17:00:24.472Z"
   },
   {
    "duration": 10,
    "start_time": "2024-09-26T17:00:24.485Z"
   },
   {
    "duration": 10,
    "start_time": "2024-09-26T17:00:24.497Z"
   },
   {
    "duration": 7,
    "start_time": "2024-09-26T17:00:24.509Z"
   },
   {
    "duration": 90,
    "start_time": "2024-09-26T17:00:25.074Z"
   },
   {
    "duration": 101,
    "start_time": "2024-09-26T17:00:25.170Z"
   },
   {
    "duration": 8,
    "start_time": "2024-09-26T17:00:25.327Z"
   },
   {
    "duration": 108,
    "start_time": "2024-09-26T17:00:25.494Z"
   },
   {
    "duration": 92,
    "start_time": "2024-09-26T17:00:25.604Z"
   },
   {
    "duration": 95,
    "start_time": "2024-09-26T17:00:25.698Z"
   },
   {
    "duration": 51,
    "start_time": "2024-09-26T17:00:25.795Z"
   },
   {
    "duration": 12,
    "start_time": "2024-09-26T17:00:26.082Z"
   },
   {
    "duration": 5,
    "start_time": "2024-09-26T17:00:26.188Z"
   },
   {
    "duration": 19,
    "start_time": "2024-09-26T17:00:26.698Z"
   },
   {
    "duration": 22,
    "start_time": "2024-09-26T17:00:27.036Z"
   },
   {
    "duration": 7,
    "start_time": "2024-09-26T17:00:27.388Z"
   },
   {
    "duration": 14,
    "start_time": "2024-09-26T17:00:46.538Z"
   },
   {
    "duration": 10,
    "start_time": "2024-09-26T17:02:07.535Z"
   },
   {
    "duration": 16,
    "start_time": "2024-09-26T17:02:11.445Z"
   },
   {
    "duration": 9,
    "start_time": "2024-09-26T17:02:52.128Z"
   },
   {
    "duration": 11,
    "start_time": "2024-09-26T17:02:59.787Z"
   },
   {
    "duration": 12,
    "start_time": "2024-09-26T17:04:19.339Z"
   },
   {
    "duration": 9,
    "start_time": "2024-09-26T17:04:21.571Z"
   },
   {
    "duration": 156,
    "start_time": "2024-10-04T02:31:28.286Z"
   },
   {
    "duration": 18,
    "start_time": "2024-10-04T02:31:34.131Z"
   },
   {
    "duration": 2093,
    "start_time": "2024-10-04T02:31:43.941Z"
   },
   {
    "duration": 1029,
    "start_time": "2024-10-04T02:31:46.037Z"
   },
   {
    "duration": 14,
    "start_time": "2024-10-04T02:31:47.068Z"
   },
   {
    "duration": 20,
    "start_time": "2024-10-04T02:31:47.085Z"
   },
   {
    "duration": 10,
    "start_time": "2024-10-04T02:31:47.108Z"
   },
   {
    "duration": 10,
    "start_time": "2024-10-04T02:31:47.120Z"
   },
   {
    "duration": 10,
    "start_time": "2024-10-04T02:31:47.131Z"
   },
   {
    "duration": 124,
    "start_time": "2024-10-04T02:31:47.142Z"
   },
   {
    "duration": 102,
    "start_time": "2024-10-04T02:31:47.268Z"
   },
   {
    "duration": 7,
    "start_time": "2024-10-04T02:31:47.372Z"
   },
   {
    "duration": 119,
    "start_time": "2024-10-04T02:31:47.381Z"
   },
   {
    "duration": 88,
    "start_time": "2024-10-04T02:31:47.505Z"
   },
   {
    "duration": 96,
    "start_time": "2024-10-04T02:31:47.594Z"
   },
   {
    "duration": 56,
    "start_time": "2024-10-04T02:31:47.693Z"
   },
   {
    "duration": 12,
    "start_time": "2024-10-04T02:31:47.751Z"
   },
   {
    "duration": 4,
    "start_time": "2024-10-04T02:31:47.764Z"
   },
   {
    "duration": 41,
    "start_time": "2024-10-04T02:31:47.769Z"
   },
   {
    "duration": 21,
    "start_time": "2024-10-04T02:31:47.813Z"
   },
   {
    "duration": 7,
    "start_time": "2024-10-04T02:31:47.835Z"
   },
   {
    "duration": 8,
    "start_time": "2024-10-04T02:31:47.844Z"
   },
   {
    "duration": 5,
    "start_time": "2024-10-04T02:31:47.853Z"
   },
   {
    "duration": 4,
    "start_time": "2024-10-04T02:31:47.859Z"
   },
   {
    "duration": 4,
    "start_time": "2024-10-04T02:31:47.865Z"
   },
   {
    "duration": 3,
    "start_time": "2024-10-04T02:31:47.906Z"
   },
   {
    "duration": 789,
    "start_time": "2024-10-04T02:31:47.911Z"
   },
   {
    "duration": 120,
    "start_time": "2024-10-04T02:31:48.704Z"
   },
   {
    "duration": 830,
    "start_time": "2024-10-04T02:31:48.826Z"
   },
   {
    "duration": 113,
    "start_time": "2024-10-04T02:31:49.657Z"
   },
   {
    "duration": 6,
    "start_time": "2024-10-04T02:31:49.772Z"
   },
   {
    "duration": 7,
    "start_time": "2024-10-04T02:31:49.780Z"
   },
   {
    "duration": 21,
    "start_time": "2024-10-04T02:31:49.788Z"
   },
   {
    "duration": 10,
    "start_time": "2024-10-04T02:31:49.811Z"
   },
   {
    "duration": 7,
    "start_time": "2024-10-04T02:31:49.823Z"
   },
   {
    "duration": 14,
    "start_time": "2024-10-04T02:31:49.832Z"
   },
   {
    "duration": 6,
    "start_time": "2024-10-04T02:31:49.847Z"
   },
   {
    "duration": 2,
    "start_time": "2024-10-04T02:31:49.855Z"
   },
   {
    "duration": 48,
    "start_time": "2024-10-04T02:31:49.858Z"
   },
   {
    "duration": 450,
    "start_time": "2024-10-04T02:31:49.908Z"
   },
   {
    "duration": 8,
    "start_time": "2024-10-04T02:31:50.360Z"
   },
   {
    "duration": 5,
    "start_time": "2024-10-04T02:31:50.369Z"
   },
   {
    "duration": 55,
    "start_time": "2024-10-04T02:31:50.380Z"
   },
   {
    "duration": 11,
    "start_time": "2024-10-04T02:31:50.437Z"
   },
   {
    "duration": 2,
    "start_time": "2024-10-04T02:31:50.450Z"
   },
   {
    "duration": 5,
    "start_time": "2024-10-04T02:31:50.454Z"
   },
   {
    "duration": 227,
    "start_time": "2024-10-04T02:31:50.461Z"
   },
   {
    "duration": 145,
    "start_time": "2024-10-04T02:31:50.691Z"
   },
   {
    "duration": 269,
    "start_time": "2024-10-04T02:31:50.839Z"
   },
   {
    "duration": 9,
    "start_time": "2024-10-04T02:31:51.110Z"
   },
   {
    "duration": 5,
    "start_time": "2024-10-04T02:31:51.121Z"
   },
   {
    "duration": 245,
    "start_time": "2024-10-04T02:31:51.128Z"
   },
   {
    "duration": 16,
    "start_time": "2024-10-04T02:31:51.375Z"
   },
   {
    "duration": 207,
    "start_time": "2024-10-04T02:31:51.393Z"
   },
   {
    "duration": 1310,
    "start_time": "2024-10-04T02:31:51.605Z"
   },
   {
    "duration": 392,
    "start_time": "2024-10-04T02:31:52.917Z"
   },
   {
    "duration": 181,
    "start_time": "2024-10-04T02:31:53.311Z"
   },
   {
    "duration": 250,
    "start_time": "2024-10-04T02:31:53.494Z"
   },
   {
    "duration": 890,
    "start_time": "2024-10-04T02:31:53.745Z"
   },
   {
    "duration": 39,
    "start_time": "2024-10-04T02:31:54.636Z"
   },
   {
    "duration": 20,
    "start_time": "2024-10-04T02:37:53.394Z"
   },
   {
    "duration": 5,
    "start_time": "2024-10-04T02:38:00.335Z"
   },
   {
    "duration": 12,
    "start_time": "2024-10-04T02:38:11.849Z"
   },
   {
    "duration": 2238,
    "start_time": "2024-10-05T00:41:50.625Z"
   },
   {
    "duration": 1085,
    "start_time": "2024-10-05T00:41:52.866Z"
   },
   {
    "duration": 15,
    "start_time": "2024-10-05T00:41:53.953Z"
   },
   {
    "duration": 12,
    "start_time": "2024-10-05T00:41:53.971Z"
   },
   {
    "duration": 10,
    "start_time": "2024-10-05T00:41:53.984Z"
   },
   {
    "duration": 9,
    "start_time": "2024-10-05T00:41:53.995Z"
   },
   {
    "duration": 9,
    "start_time": "2024-10-05T00:41:54.031Z"
   },
   {
    "duration": 114,
    "start_time": "2024-10-05T00:41:54.042Z"
   },
   {
    "duration": 115,
    "start_time": "2024-10-05T00:41:54.158Z"
   },
   {
    "duration": 10,
    "start_time": "2024-10-05T00:41:55.848Z"
   },
   {
    "duration": 110,
    "start_time": "2024-10-05T00:41:57.051Z"
   },
   {
    "duration": 97,
    "start_time": "2024-10-05T00:41:57.163Z"
   },
   {
    "duration": 101,
    "start_time": "2024-10-05T00:41:57.262Z"
   },
   {
    "duration": 49,
    "start_time": "2024-10-05T00:41:57.365Z"
   },
   {
    "duration": 16,
    "start_time": "2024-10-05T00:41:57.623Z"
   },
   {
    "duration": 5,
    "start_time": "2024-10-05T00:41:57.704Z"
   },
   {
    "duration": 252,
    "start_time": "2024-10-05T00:41:57.793Z"
   },
   {
    "duration": 0,
    "start_time": "2024-10-05T00:41:58.046Z"
   },
   {
    "duration": 0,
    "start_time": "2024-10-05T00:41:58.047Z"
   },
   {
    "duration": 13,
    "start_time": "2024-10-05T00:42:22.610Z"
   },
   {
    "duration": 29,
    "start_time": "2024-10-05T00:42:28.854Z"
   },
   {
    "duration": 19,
    "start_time": "2024-10-05T00:42:39.311Z"
   },
   {
    "duration": 9,
    "start_time": "2024-10-05T00:42:41.591Z"
   },
   {
    "duration": 8,
    "start_time": "2024-10-05T00:42:43.940Z"
   },
   {
    "duration": 10,
    "start_time": "2024-10-05T00:47:49.267Z"
   },
   {
    "duration": 22,
    "start_time": "2024-10-05T00:48:23.140Z"
   },
   {
    "duration": 10,
    "start_time": "2024-10-05T00:48:28.091Z"
   },
   {
    "duration": 10,
    "start_time": "2024-10-05T00:48:39.413Z"
   },
   {
    "duration": 13,
    "start_time": "2024-10-05T00:48:55.437Z"
   },
   {
    "duration": 15,
    "start_time": "2024-10-05T00:53:44.359Z"
   },
   {
    "duration": 17,
    "start_time": "2024-10-05T00:53:48.488Z"
   },
   {
    "duration": 10,
    "start_time": "2024-10-05T00:54:11.933Z"
   },
   {
    "duration": 2301,
    "start_time": "2024-10-05T15:54:25.316Z"
   },
   {
    "duration": 1152,
    "start_time": "2024-10-05T15:54:27.619Z"
   },
   {
    "duration": 15,
    "start_time": "2024-10-05T15:54:28.773Z"
   },
   {
    "duration": 25,
    "start_time": "2024-10-05T15:54:28.790Z"
   },
   {
    "duration": 9,
    "start_time": "2024-10-05T15:54:28.817Z"
   },
   {
    "duration": 10,
    "start_time": "2024-10-05T15:54:28.827Z"
   },
   {
    "duration": 8,
    "start_time": "2024-10-05T15:54:28.839Z"
   },
   {
    "duration": 117,
    "start_time": "2024-10-05T15:54:28.848Z"
   },
   {
    "duration": 110,
    "start_time": "2024-10-05T15:54:28.967Z"
   },
   {
    "duration": 8,
    "start_time": "2024-10-05T15:54:29.080Z"
   },
   {
    "duration": 120,
    "start_time": "2024-10-05T15:54:29.089Z"
   },
   {
    "duration": 87,
    "start_time": "2024-10-05T15:54:29.210Z"
   },
   {
    "duration": 103,
    "start_time": "2024-10-05T15:54:29.298Z"
   },
   {
    "duration": 48,
    "start_time": "2024-10-05T15:54:29.410Z"
   },
   {
    "duration": 12,
    "start_time": "2024-10-05T15:54:29.460Z"
   },
   {
    "duration": 3,
    "start_time": "2024-10-05T15:54:29.474Z"
   },
   {
    "duration": 39,
    "start_time": "2024-10-05T15:54:29.479Z"
   },
   {
    "duration": 15,
    "start_time": "2024-10-05T15:54:29.519Z"
   },
   {
    "duration": 13,
    "start_time": "2024-10-05T15:54:29.535Z"
   },
   {
    "duration": 8,
    "start_time": "2024-10-05T15:54:29.550Z"
   },
   {
    "duration": 5,
    "start_time": "2024-10-05T15:54:29.559Z"
   },
   {
    "duration": 4,
    "start_time": "2024-10-05T15:54:29.565Z"
   },
   {
    "duration": 39,
    "start_time": "2024-10-05T15:54:29.571Z"
   },
   {
    "duration": 4,
    "start_time": "2024-10-05T15:54:29.611Z"
   },
   {
    "duration": 802,
    "start_time": "2024-10-05T15:54:29.616Z"
   },
   {
    "duration": 116,
    "start_time": "2024-10-05T15:54:30.420Z"
   },
   {
    "duration": 835,
    "start_time": "2024-10-05T15:54:30.537Z"
   },
   {
    "duration": 117,
    "start_time": "2024-10-05T15:54:31.378Z"
   },
   {
    "duration": 4,
    "start_time": "2024-10-05T15:54:31.497Z"
   },
   {
    "duration": 6,
    "start_time": "2024-10-05T15:54:31.509Z"
   },
   {
    "duration": 6,
    "start_time": "2024-10-05T15:54:31.517Z"
   },
   {
    "duration": 10,
    "start_time": "2024-10-05T15:54:31.525Z"
   },
   {
    "duration": 7,
    "start_time": "2024-10-05T15:54:31.536Z"
   },
   {
    "duration": 14,
    "start_time": "2024-10-05T15:54:31.545Z"
   },
   {
    "duration": 6,
    "start_time": "2024-10-05T15:54:31.561Z"
   },
   {
    "duration": 41,
    "start_time": "2024-10-05T15:54:31.569Z"
   },
   {
    "duration": 16,
    "start_time": "2024-10-05T15:54:31.611Z"
   },
   {
    "duration": 446,
    "start_time": "2024-10-05T15:54:31.629Z"
   },
   {
    "duration": 7,
    "start_time": "2024-10-05T15:54:32.077Z"
   },
   {
    "duration": 4,
    "start_time": "2024-10-05T15:54:32.086Z"
   },
   {
    "duration": 33,
    "start_time": "2024-10-05T15:54:32.109Z"
   },
   {
    "duration": 10,
    "start_time": "2024-10-05T15:54:32.144Z"
   },
   {
    "duration": 2,
    "start_time": "2024-10-05T15:54:32.156Z"
   },
   {
    "duration": 5,
    "start_time": "2024-10-05T15:54:32.160Z"
   },
   {
    "duration": 243,
    "start_time": "2024-10-05T15:54:32.167Z"
   },
   {
    "duration": 182,
    "start_time": "2024-10-05T15:54:32.412Z"
   },
   {
    "duration": 234,
    "start_time": "2024-10-05T15:54:32.596Z"
   },
   {
    "duration": 9,
    "start_time": "2024-10-05T15:54:32.833Z"
   },
   {
    "duration": 4,
    "start_time": "2024-10-05T15:54:32.843Z"
   },
   {
    "duration": 256,
    "start_time": "2024-10-05T15:54:32.849Z"
   },
   {
    "duration": 16,
    "start_time": "2024-10-05T15:54:33.109Z"
   },
   {
    "duration": 207,
    "start_time": "2024-10-05T15:54:33.126Z"
   },
   {
    "duration": 1281,
    "start_time": "2024-10-05T15:54:33.335Z"
   },
   {
    "duration": 410,
    "start_time": "2024-10-05T15:54:34.618Z"
   },
   {
    "duration": 182,
    "start_time": "2024-10-05T15:54:35.030Z"
   },
   {
    "duration": 246,
    "start_time": "2024-10-05T15:54:35.214Z"
   },
   {
    "duration": 894,
    "start_time": "2024-10-05T15:54:35.463Z"
   },
   {
    "duration": 41,
    "start_time": "2024-10-05T15:54:36.359Z"
   },
   {
    "duration": 24,
    "start_time": "2024-10-05T15:55:17.395Z"
   },
   {
    "duration": 20,
    "start_time": "2024-10-05T15:55:54.205Z"
   },
   {
    "duration": 17,
    "start_time": "2024-10-05T16:00:05.254Z"
   },
   {
    "duration": 13,
    "start_time": "2024-10-05T16:00:42.613Z"
   },
   {
    "duration": 18,
    "start_time": "2024-10-05T16:00:50.005Z"
   },
   {
    "duration": 14,
    "start_time": "2024-10-05T16:01:24.185Z"
   },
   {
    "duration": 11,
    "start_time": "2024-10-05T16:02:15.963Z"
   },
   {
    "duration": 12,
    "start_time": "2024-10-05T16:03:05.788Z"
   },
   {
    "duration": 3,
    "start_time": "2024-10-05T16:03:53.587Z"
   },
   {
    "duration": 12,
    "start_time": "2024-10-05T16:05:28.615Z"
   },
   {
    "duration": 11,
    "start_time": "2024-10-05T16:06:03.798Z"
   },
   {
    "duration": 13,
    "start_time": "2024-10-05T16:06:31.261Z"
   },
   {
    "duration": 21,
    "start_time": "2024-10-05T16:12:03.551Z"
   },
   {
    "duration": 5,
    "start_time": "2024-10-05T16:12:04.197Z"
   },
   {
    "duration": 11,
    "start_time": "2024-10-05T16:12:04.997Z"
   },
   {
    "duration": 19,
    "start_time": "2024-10-05T16:12:05.792Z"
   },
   {
    "duration": 2,
    "start_time": "2024-10-05T16:12:07.292Z"
   },
   {
    "duration": 16,
    "start_time": "2024-10-05T16:12:07.835Z"
   },
   {
    "duration": 15,
    "start_time": "2024-10-05T16:12:58.934Z"
   },
   {
    "duration": 13,
    "start_time": "2024-10-05T16:16:28.235Z"
   },
   {
    "duration": 12,
    "start_time": "2024-10-05T16:16:54.466Z"
   },
   {
    "duration": 12,
    "start_time": "2024-10-05T16:17:08.339Z"
   },
   {
    "duration": 205,
    "start_time": "2024-10-05T16:18:22.393Z"
   },
   {
    "duration": 11,
    "start_time": "2024-10-05T16:18:37.202Z"
   },
   {
    "duration": 12,
    "start_time": "2024-10-05T16:22:00.165Z"
   },
   {
    "duration": 13,
    "start_time": "2024-10-05T16:22:11.041Z"
   },
   {
    "duration": 11,
    "start_time": "2024-10-05T16:22:47.251Z"
   },
   {
    "duration": 2185,
    "start_time": "2024-10-05T22:44:57.812Z"
   },
   {
    "duration": 1040,
    "start_time": "2024-10-05T22:44:59.999Z"
   },
   {
    "duration": 16,
    "start_time": "2024-10-05T22:45:01.041Z"
   },
   {
    "duration": 11,
    "start_time": "2024-10-05T22:45:01.060Z"
   },
   {
    "duration": 8,
    "start_time": "2024-10-05T22:45:01.072Z"
   },
   {
    "duration": 9,
    "start_time": "2024-10-05T22:45:01.082Z"
   },
   {
    "duration": 8,
    "start_time": "2024-10-05T22:45:01.093Z"
   },
   {
    "duration": 128,
    "start_time": "2024-10-05T22:45:01.102Z"
   },
   {
    "duration": 111,
    "start_time": "2024-10-05T22:45:01.232Z"
   },
   {
    "duration": 8,
    "start_time": "2024-10-05T22:45:01.346Z"
   },
   {
    "duration": 118,
    "start_time": "2024-10-05T22:45:01.356Z"
   },
   {
    "duration": 89,
    "start_time": "2024-10-05T22:45:01.477Z"
   },
   {
    "duration": 96,
    "start_time": "2024-10-05T22:45:01.568Z"
   },
   {
    "duration": 46,
    "start_time": "2024-10-05T22:45:01.709Z"
   },
   {
    "duration": 12,
    "start_time": "2024-10-05T22:45:02.458Z"
   },
   {
    "duration": 4,
    "start_time": "2024-10-05T22:45:02.626Z"
   },
   {
    "duration": 10,
    "start_time": "2024-10-05T22:45:02.818Z"
   },
   {
    "duration": 17,
    "start_time": "2024-10-05T22:45:02.995Z"
   },
   {
    "duration": 9,
    "start_time": "2024-10-05T22:45:03.373Z"
   },
   {
    "duration": 12,
    "start_time": "2024-10-05T22:45:17.165Z"
   },
   {
    "duration": 9,
    "start_time": "2024-10-05T22:45:19.868Z"
   },
   {
    "duration": 2125,
    "start_time": "2024-10-07T23:18:12.290Z"
   },
   {
    "duration": 1040,
    "start_time": "2024-10-07T23:18:14.418Z"
   },
   {
    "duration": 15,
    "start_time": "2024-10-07T23:18:15.459Z"
   },
   {
    "duration": 11,
    "start_time": "2024-10-07T23:18:15.475Z"
   },
   {
    "duration": 25,
    "start_time": "2024-10-07T23:18:15.488Z"
   },
   {
    "duration": 9,
    "start_time": "2024-10-07T23:18:15.514Z"
   },
   {
    "duration": 8,
    "start_time": "2024-10-07T23:18:15.524Z"
   },
   {
    "duration": 117,
    "start_time": "2024-10-07T23:18:15.533Z"
   },
   {
    "duration": 128,
    "start_time": "2024-10-07T23:18:15.652Z"
   },
   {
    "duration": 9,
    "start_time": "2024-10-07T23:18:15.783Z"
   },
   {
    "duration": 115,
    "start_time": "2024-10-07T23:18:15.795Z"
   },
   {
    "duration": 101,
    "start_time": "2024-10-07T23:18:15.911Z"
   },
   {
    "duration": 137,
    "start_time": "2024-10-07T23:18:16.014Z"
   },
   {
    "duration": 77,
    "start_time": "2024-10-07T23:18:16.155Z"
   },
   {
    "duration": 16,
    "start_time": "2024-10-07T23:18:16.233Z"
   },
   {
    "duration": 5,
    "start_time": "2024-10-07T23:18:16.251Z"
   },
   {
    "duration": 11,
    "start_time": "2024-10-07T23:18:16.258Z"
   },
   {
    "duration": 47,
    "start_time": "2024-10-07T23:18:16.272Z"
   },
   {
    "duration": 11,
    "start_time": "2024-10-07T23:18:16.322Z"
   },
   {
    "duration": 6,
    "start_time": "2024-10-07T23:18:16.334Z"
   },
   {
    "duration": 6,
    "start_time": "2024-10-07T23:18:16.342Z"
   },
   {
    "duration": 6,
    "start_time": "2024-10-07T23:18:16.349Z"
   },
   {
    "duration": 3,
    "start_time": "2024-10-07T23:18:16.357Z"
   },
   {
    "duration": 816,
    "start_time": "2024-10-07T23:18:16.362Z"
   },
   {
    "duration": 116,
    "start_time": "2024-10-07T23:18:17.181Z"
   },
   {
    "duration": 810,
    "start_time": "2024-10-07T23:18:17.299Z"
   },
   {
    "duration": 105,
    "start_time": "2024-10-07T23:18:18.111Z"
   },
   {
    "duration": 5,
    "start_time": "2024-10-07T23:18:18.218Z"
   },
   {
    "duration": 6,
    "start_time": "2024-10-07T23:18:18.225Z"
   },
   {
    "duration": 7,
    "start_time": "2024-10-07T23:18:18.232Z"
   },
   {
    "duration": 10,
    "start_time": "2024-10-07T23:18:18.240Z"
   },
   {
    "duration": 7,
    "start_time": "2024-10-07T23:18:18.252Z"
   },
   {
    "duration": 47,
    "start_time": "2024-10-07T23:18:18.260Z"
   },
   {
    "duration": 6,
    "start_time": "2024-10-07T23:18:18.308Z"
   },
   {
    "duration": 2,
    "start_time": "2024-10-07T23:18:18.316Z"
   },
   {
    "duration": 15,
    "start_time": "2024-10-07T23:18:18.320Z"
   },
   {
    "duration": 458,
    "start_time": "2024-10-07T23:18:18.336Z"
   },
   {
    "duration": 9,
    "start_time": "2024-10-07T23:18:18.805Z"
   },
   {
    "duration": 5,
    "start_time": "2024-10-07T23:18:18.816Z"
   },
   {
    "duration": 34,
    "start_time": "2024-10-07T23:18:18.823Z"
   },
   {
    "duration": 10,
    "start_time": "2024-10-07T23:18:18.861Z"
   },
   {
    "duration": 2,
    "start_time": "2024-10-07T23:18:18.873Z"
   },
   {
    "duration": 30,
    "start_time": "2024-10-07T23:18:18.877Z"
   },
   {
    "duration": 232,
    "start_time": "2024-10-07T23:18:18.909Z"
   },
   {
    "duration": 174,
    "start_time": "2024-10-07T23:18:19.142Z"
   },
   {
    "duration": 237,
    "start_time": "2024-10-07T23:18:19.317Z"
   },
   {
    "duration": 10,
    "start_time": "2024-10-07T23:18:19.556Z"
   },
   {
    "duration": 6,
    "start_time": "2024-10-07T23:18:19.567Z"
   },
   {
    "duration": 244,
    "start_time": "2024-10-07T23:18:19.574Z"
   },
   {
    "duration": 19,
    "start_time": "2024-10-07T23:18:19.819Z"
   },
   {
    "duration": 205,
    "start_time": "2024-10-07T23:18:19.839Z"
   },
   {
    "duration": 1300,
    "start_time": "2024-10-07T23:18:20.046Z"
   },
   {
    "duration": 399,
    "start_time": "2024-10-07T23:18:21.348Z"
   },
   {
    "duration": 184,
    "start_time": "2024-10-07T23:18:21.749Z"
   },
   {
    "duration": 256,
    "start_time": "2024-10-07T23:18:21.934Z"
   },
   {
    "duration": 889,
    "start_time": "2024-10-07T23:18:22.192Z"
   },
   {
    "duration": 55,
    "start_time": "2024-10-07T23:18:23.083Z"
   }
  ],
  "colab": {
   "provenance": []
  },
  "kernelspec": {
   "display_name": "Python 3 (ipykernel)",
   "language": "python",
   "name": "python3"
  },
  "language_info": {
   "codemirror_mode": {
    "name": "ipython",
    "version": 3
   },
   "file_extension": ".py",
   "mimetype": "text/x-python",
   "name": "python",
   "nbconvert_exporter": "python",
   "pygments_lexer": "ipython3",
   "version": "3.9.19"
  },
  "toc": {
   "base_numbering": 1,
   "nav_menu": {},
   "number_sections": true,
   "sideBar": true,
   "skip_h1_title": true,
   "title_cell": "Table of Contents",
   "title_sidebar": "Contents",
   "toc_cell": false,
   "toc_position": {},
   "toc_section_display": true,
   "toc_window_display": false
  },
  "vscode": {
   "interpreter": {
    "hash": "01a7be9ec63e704a62cefc5fe7a4756944464ee731be31632bdf42a4cb4688cf"
   }
  }
 },
 "nbformat": 4,
 "nbformat_minor": 5
}
